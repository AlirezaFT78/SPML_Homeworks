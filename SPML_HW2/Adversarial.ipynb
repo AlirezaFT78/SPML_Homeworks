{
 "cells": [
  {
   "cell_type": "markdown",
   "metadata": {
    "id": "VgdxxbuzRFTM"
   },
   "source": [
    "In this notebook, you will explore adversarial attacks and training methods in deep learning. First, you will train a simple model, ResNet18, on the CIFAR-10 dataset. Next, you will learn about two different adversarial attacks: FGSM (Fast Gradient Sign Method), PGD (Projected Gradient Descent) and UAP (Universal adversarial perturbations). To enhance your understanding, you will implement the PGD and UAP attack from scratch, while the FGSM attack will be implemented using a library. After this, you will use the FGSM attack to generate adversarial examples and then perform adversarial training on the model using the CIFAR-10 dataset. Finally, you will compare the performance and robustness of the adversarially trained model with the original model.\n",
    "\n",
    "Good luck!"
   ]
  },
  {
   "cell_type": "markdown",
   "metadata": {
    "id": "HR1RPi13RFTO"
   },
   "source": [
    "## outline\n",
    "- Train Resnet on CIFAR10\n",
    "- FGSM Attack using torchattacks\n",
    "- PGD Attack from scratch\n",
    "- UAP Attack from scratch\n",
    "- Visualization\n",
    "- Adversarial Training\n"
   ]
  },
  {
   "cell_type": "markdown",
   "metadata": {
    "id": "vF6JH0qxRFTO"
   },
   "source": [
    "Name: Alireza Farajtabrizi  \n",
    "\n",
    "Student Number: 403206554"
   ]
  },
  {
   "cell_type": "code",
   "execution_count": 1,
   "metadata": {
    "id": "GFPuKzBkRFTO"
   },
   "outputs": [],
   "source": [
    "import torch\n",
    "import torchattacks\n",
    "import torchvision\n",
    "import torchvision.transforms as transforms\n",
    "from torchvision.models import resnet18\n",
    "import torch.nn as nn\n",
    "import torch.nn.functional as F\n",
    "import torch.optim as optim\n",
    "import numpy as np\n",
    "import matplotlib.pyplot as plt\n",
    "from torch.autograd import Variable\n",
    "from tqdm import tqdm\n",
    "\n",
    "np.random.seed(42)\n",
    "torch.manual_seed(42)\n",
    "torch.cuda.manual_seed(42)\n",
    "torch.backends.cudnn.deterministic = True\n",
    "torch.backends.cudnn.benchmark = False"
   ]
  },
  {
   "cell_type": "code",
   "execution_count": 2,
   "metadata": {
    "colab": {
     "base_uri": "https://localhost:8080/"
    },
    "id": "sj-WRWWaRFTP",
    "outputId": "a787a662-ae3f-4718-c297-572925923dad"
   },
   "outputs": [
    {
     "name": "stdout",
     "output_type": "stream",
     "text": [
      "cuda:0\n"
     ]
    }
   ],
   "source": [
    "device = 'cuda:0' if torch.cuda.is_available() else 'cpu'\n",
    "print(device)"
   ]
  },
  {
   "cell_type": "markdown",
   "metadata": {
    "id": "V2A4lJoORFTP"
   },
   "source": [
    "## Train Resnet on CIFAR10 (15 pts)"
   ]
  },
  {
   "cell_type": "code",
   "execution_count": 3,
   "metadata": {
    "colab": {
     "base_uri": "https://localhost:8080/"
    },
    "id": "KdVjNPncRFTQ",
    "outputId": "51a9a3df-9a9b-4c38-81a4-0d7453ec176d"
   },
   "outputs": [
    {
     "name": "stdout",
     "output_type": "stream",
     "text": [
      "Files already downloaded and verified\n",
      "Files already downloaded and verified\n"
     ]
    }
   ],
   "source": [
    "# Prepare Cifar10 data\n",
    "batch_size = 128\n",
    "transform = transforms.Compose([transforms.ToTensor(),])\n",
    "\n",
    "##############################################################################\n",
    "# Prepare training and test datasets and dataloaders                         #\n",
    "##############################################################################\n",
    "trainset = torchvision.datasets.CIFAR10(root='./data', train=True, download=True, transform=transform)\n",
    "trainloader = torch.utils.data.DataLoader(trainset, batch_size=batch_size, shuffle=True, num_workers=2)\n",
    "testset = torchvision.datasets.CIFAR10(root='./data', train=False, download=True, transform=transform)\n",
    "testloader = torch.utils.data.DataLoader(testset, batch_size=batch_size, shuffle=False, num_workers=2)\n",
    "################################ End #########################################\n",
    "\n",
    "classes = ('plane', 'car', 'bird', 'cat', 'deer', 'dog', 'frog', 'horse', 'ship', 'truck')"
   ]
  },
  {
   "cell_type": "code",
   "execution_count": 4,
   "metadata": {
    "id": "SfssT8TlRFTQ"
   },
   "outputs": [],
   "source": [
    "# model architecture\n",
    "class resnet(nn.Module):\n",
    "  def __init__(self, num_cls):\n",
    "    super().__init__()\n",
    "    self.conv = nn.Sequential(*list(resnet18(weights=None).children())[:-2])\n",
    "    self.fc = nn.Linear(512, num_cls)\n",
    "\n",
    "  def forward(self, x):\n",
    "    x = self.conv(x)\n",
    "    x = torch.flatten(x, start_dim=1)\n",
    "    logits = self.fc(x)\n",
    "    return logits\n",
    "\n",
    "##############################################################################\n",
    "# Initialize model and move to device                                        #\n",
    "##############################################################################\n",
    "model = resnet(len(classes))\n",
    "model = model.to(device)\n",
    "################################ End #########################################"
   ]
  },
  {
   "cell_type": "code",
   "execution_count": 6,
   "metadata": {
    "id": "8MYXv2_oRFTQ"
   },
   "outputs": [],
   "source": [
    "learning_rate = 0.01\n",
    "criterion = nn.CrossEntropyLoss()\n",
    "optimizer = optim.SGD(model.parameters(), lr=learning_rate, momentum=0.9)\n",
    "epochs = 100"
   ]
  },
  {
   "cell_type": "code",
   "execution_count": 7,
   "metadata": {
    "colab": {
     "base_uri": "https://localhost:8080/"
    },
    "id": "x6KnozgRRFTQ",
    "outputId": "08100f1a-5b39-41f0-acf3-1a97c537a64b"
   },
   "outputs": [
    {
     "name": "stdout",
     "output_type": "stream",
     "text": [
      "Epoch [1/100], Loss: 1.535958\n",
      "Epoch [2/100], Loss: 1.136340\n",
      "Epoch [3/100], Loss: 0.931761\n",
      "Epoch [4/100], Loss: 0.773815\n",
      "Epoch [5/100], Loss: 0.662042\n",
      "Epoch [6/100], Loss: 0.552037\n",
      "Epoch [7/100], Loss: 0.451464\n",
      "Epoch [8/100], Loss: 0.377972\n",
      "Epoch [9/100], Loss: 0.307832\n",
      "Epoch [10/100], Loss: 0.248097\n",
      "Epoch [11/100], Loss: 0.211959\n",
      "Epoch [12/100], Loss: 0.176073\n",
      "Epoch [13/100], Loss: 0.136948\n",
      "Epoch [14/100], Loss: 0.126280\n",
      "Epoch [15/100], Loss: 0.106697\n",
      "Epoch [16/100], Loss: 0.093143\n",
      "Epoch [17/100], Loss: 0.072704\n",
      "Epoch [18/100], Loss: 0.065872\n",
      "Epoch [19/100], Loss: 0.070996\n",
      "Epoch [20/100], Loss: 0.051236\n",
      "Epoch [21/100], Loss: 0.037583\n",
      "Epoch [22/100], Loss: 0.044097\n",
      "Epoch [23/100], Loss: 0.038511\n",
      "Epoch [24/100], Loss: 0.040651\n",
      "Epoch [25/100], Loss: 0.035510\n",
      "Epoch [26/100], Loss: 0.038019\n",
      "Epoch [27/100], Loss: 0.032422\n",
      "Epoch [28/100], Loss: 0.027919\n",
      "Epoch [29/100], Loss: 0.026087\n",
      "Epoch [30/100], Loss: 0.022533\n",
      "Epoch [31/100], Loss: 0.024085\n",
      "Epoch [32/100], Loss: 0.021466\n",
      "Epoch [33/100], Loss: 0.014993\n",
      "Epoch [34/100], Loss: 0.016951\n",
      "Epoch [35/100], Loss: 0.021722\n",
      "Epoch [36/100], Loss: 0.023182\n",
      "Epoch [37/100], Loss: 0.023969\n",
      "Epoch [38/100], Loss: 0.015848\n",
      "Epoch [39/100], Loss: 0.009233\n",
      "Epoch [40/100], Loss: 0.014242\n",
      "Epoch [41/100], Loss: 0.007680\n",
      "Epoch [42/100], Loss: 0.008143\n",
      "Epoch [43/100], Loss: 0.006249\n",
      "Epoch [44/100], Loss: 0.005286\n",
      "Epoch [45/100], Loss: 0.004474\n",
      "Epoch [46/100], Loss: 0.006126\n",
      "Epoch [47/100], Loss: 0.007131\n",
      "Epoch [48/100], Loss: 0.011716\n",
      "Epoch [49/100], Loss: 0.017963\n",
      "Epoch [50/100], Loss: 0.014242\n",
      "Epoch [51/100], Loss: 0.015309\n",
      "Epoch [52/100], Loss: 0.009428\n",
      "Epoch [53/100], Loss: 0.007481\n",
      "Epoch [54/100], Loss: 0.006441\n",
      "Epoch [55/100], Loss: 0.006288\n",
      "Epoch [56/100], Loss: 0.007925\n",
      "Epoch [57/100], Loss: 0.006743\n",
      "Epoch [58/100], Loss: 0.005496\n",
      "Epoch [59/100], Loss: 0.005684\n",
      "Epoch [60/100], Loss: 0.008495\n",
      "Epoch [61/100], Loss: 0.010719\n",
      "Epoch [62/100], Loss: 0.007610\n",
      "Epoch [63/100], Loss: 0.005299\n",
      "Epoch [64/100], Loss: 0.004500\n",
      "Epoch [65/100], Loss: 0.005585\n",
      "Epoch [66/100], Loss: 0.005124\n",
      "Epoch [67/100], Loss: 0.004576\n",
      "Epoch [68/100], Loss: 0.003290\n",
      "Epoch [69/100], Loss: 0.003730\n",
      "Epoch [70/100], Loss: 0.002757\n",
      "Epoch [71/100], Loss: 0.004075\n",
      "Epoch [72/100], Loss: 0.004360\n",
      "Epoch [73/100], Loss: 0.004507\n",
      "Epoch [74/100], Loss: 0.002323\n",
      "Epoch [75/100], Loss: 0.001843\n",
      "Epoch [76/100], Loss: 0.001096\n",
      "Epoch [77/100], Loss: 0.001600\n",
      "Epoch [78/100], Loss: 0.001531\n",
      "Epoch [79/100], Loss: 0.000732\n",
      "Epoch [80/100], Loss: 0.000733\n",
      "Epoch [81/100], Loss: 0.000829\n",
      "Epoch [82/100], Loss: 0.000561\n",
      "Epoch [83/100], Loss: 0.000462\n",
      "Epoch [84/100], Loss: 0.000240\n",
      "Epoch [85/100], Loss: 0.000370\n",
      "Epoch [86/100], Loss: 0.000750\n",
      "Epoch [87/100], Loss: 0.001785\n",
      "Epoch [88/100], Loss: 0.001700\n",
      "Epoch [89/100], Loss: 0.006087\n",
      "Epoch [90/100], Loss: 0.010297\n",
      "Epoch [91/100], Loss: 0.011563\n",
      "Epoch [92/100], Loss: 0.017275\n",
      "Epoch [93/100], Loss: 0.012523\n",
      "Epoch [94/100], Loss: 0.008819\n",
      "Epoch [95/100], Loss: 0.006073\n",
      "Epoch [96/100], Loss: 0.002811\n",
      "Epoch [97/100], Loss: 0.002009\n",
      "Epoch [98/100], Loss: 0.001635\n",
      "Epoch [99/100], Loss: 0.000969\n",
      "Epoch [100/100], Loss: 0.000443\n"
     ]
    }
   ],
   "source": [
    "##############################################################################\n",
    "# Implement train loop and log training loss after each epoch                #\n",
    "##############################################################################\n",
    "for epoch in range(epochs):\n",
    "    model.train()\n",
    "    running_loss = 0.0\n",
    "\n",
    "    for inputs, labels in trainloader:\n",
    "        inputs, labels = inputs.to(device), labels.to(device)\n",
    "\n",
    "        optimizer.zero_grad()\n",
    "        outputs = model(inputs)\n",
    "\n",
    "        loss = criterion(outputs, labels)\n",
    "        running_loss += loss.item()\n",
    "\n",
    "        loss.backward()\n",
    "        optimizer.step()\n",
    "\n",
    "    epoch_loss = running_loss / len(trainloader)\n",
    "    print(f\"Epoch [{epoch+1}/{epochs}], Loss: {epoch_loss:.6f}\")\n",
    "################################ End #########################################"
   ]
  },
  {
   "cell_type": "code",
   "execution_count": 8,
   "metadata": {
    "colab": {
     "base_uri": "https://localhost:8080/"
    },
    "id": "jr0VkoxHRFTR",
    "outputId": "f91be6b5-f011-4d8b-e1b0-e332ef5af3e3"
   },
   "outputs": [
    {
     "name": "stdout",
     "output_type": "stream",
     "text": [
      "Test Accuracy: 74.88%\n"
     ]
    }
   ],
   "source": [
    "##############################################################################\n",
    "# Evaluate the trained model on test set and print test accuracy             #\n",
    "##############################################################################\n",
    "model.eval()\n",
    "correct = 0\n",
    "total = 0\n",
    "\n",
    "with torch.no_grad():\n",
    "    for inputs, labels in testloader:\n",
    "        inputs, labels = inputs.to(device), labels.to(device)\n",
    "\n",
    "        outputs = model(inputs)\n",
    "        _, predicted = torch.max(outputs, 1)\n",
    "\n",
    "        correct += (predicted == labels).sum().item()\n",
    "        total += labels.size(0)\n",
    "\n",
    "accuracy = 100 * correct / total\n",
    "print(f'Test Accuracy: {accuracy:.2f}%')\n",
    "################################ End #########################################"
   ]
  },
  {
   "cell_type": "code",
   "execution_count": 9,
   "metadata": {
    "id": "J7dyGWTJRFTR"
   },
   "outputs": [],
   "source": [
    "# Save model\n",
    "model.eval()\n",
    "model_name = \"resnet18_cifar10_model_pretrained.pth\"\n",
    "model_PATH = f\"{model_name}\"\n",
    "torch.save(model.state_dict(), model_PATH)"
   ]
  },
  {
   "cell_type": "markdown",
   "metadata": {
    "id": "-oLeZsuKRFTR"
   },
   "source": [
    "## FGSM Attack using torchattacks (10 pts)"
   ]
  },
  {
   "cell_type": "markdown",
   "metadata": {
    "id": "6Q53M6RlRFTR"
   },
   "source": [
    "In this section you should run FGSM attack using torchattacks library (https://adversarial-attacks-pytorch.readthedocs.io/en/latest/index.html).\n",
    "\n",
    "Run the attack for $\\epsilon \\in \\{\\frac{1}{255}, \\frac{4}{255}, \\frac{8}{255},\\}$ report the performance of the model on untargeted FGSM attack on the test data."
   ]
  },
  {
   "cell_type": "code",
   "execution_count": 10,
   "metadata": {
    "colab": {
     "base_uri": "https://localhost:8080/"
    },
    "id": "mnt0pGvoRFTR",
    "outputId": "afaa501f-b976-48f1-a0d1-5af62484310a"
   },
   "outputs": [
    {
     "name": "stderr",
     "output_type": "stream",
     "text": [
      "100%|██████████| 79/79 [00:04<00:00, 18.19it/s]"
     ]
    },
    {
     "name": "stdout",
     "output_type": "stream",
     "text": [
      "\n",
      "Accuracy after FGSM attack with epsilon = 0.0039: 53.64%\n"
     ]
    },
    {
     "name": "stderr",
     "output_type": "stream",
     "text": [
      "\n"
     ]
    }
   ],
   "source": [
    "##############################################################################\n",
    "# run untargeted FGSM attack for epsilon = 1/255 and report its accuracy     #\n",
    "##############################################################################\n",
    "def attack_model_eval(attack, model, dataloader):\n",
    "    correct = 0\n",
    "    total = 0\n",
    "\n",
    "    for images, labels in tqdm(dataloader):\n",
    "        images, labels = images.to(device), labels.to(device)\n",
    "\n",
    "        adv_images = attack(images, labels)\n",
    "\n",
    "        outputs = model(adv_images)\n",
    "        _, predicted = outputs.max(1)\n",
    "\n",
    "        correct += (predicted == labels).sum().item()\n",
    "        total += labels.size(0)\n",
    "\n",
    "    accuracy = 100 * correct / total\n",
    "    return accuracy\n",
    "############################################################################################\n",
    "model.load_state_dict(torch.load(\"resnet18_cifar10_model_pretrained.pth\",  weights_only=True))\n",
    "\n",
    "epsilon = 1/255\n",
    "fgsm_attack = torchattacks.FGSM(model, eps=epsilon)\n",
    "\n",
    "accuracy = attack_model_eval(fgsm_attack, model, testloader)\n",
    "print(f'\\nAccuracy after FGSM attack with epsilon = {epsilon:.4f}: {accuracy:.2f}%')\n",
    "################################ End #########################################"
   ]
  },
  {
   "cell_type": "code",
   "execution_count": 11,
   "metadata": {
    "colab": {
     "base_uri": "https://localhost:8080/"
    },
    "id": "4LenDEz7RFTR",
    "outputId": "24d2507d-737f-46b0-af9b-ae3b84048de4"
   },
   "outputs": [
    {
     "name": "stderr",
     "output_type": "stream",
     "text": [
      "100%|██████████| 79/79 [00:03<00:00, 23.85it/s]"
     ]
    },
    {
     "name": "stdout",
     "output_type": "stream",
     "text": [
      "\n",
      "Accuracy after FGSM attack with epsilon = 0.0157: 22.33%\n"
     ]
    },
    {
     "name": "stderr",
     "output_type": "stream",
     "text": [
      "\n"
     ]
    }
   ],
   "source": [
    "##############################################################################\n",
    "# run untargeted FGSM attack for epsilon = 4/255 and report its accuracy     #\n",
    "##############################################################################\n",
    "epsilon = 4/255\n",
    "fgsm_attack = torchattacks.FGSM(model, eps=epsilon)\n",
    "\n",
    "accuracy = attack_model_eval(fgsm_attack, model, testloader)\n",
    "print(f'\\nAccuracy after FGSM attack with epsilon = {epsilon:.4f}: {accuracy:.2f}%')\n",
    "################################ End #########################################"
   ]
  },
  {
   "cell_type": "code",
   "execution_count": 12,
   "metadata": {
    "colab": {
     "base_uri": "https://localhost:8080/"
    },
    "id": "UmjgbogFRFTS",
    "outputId": "2812db70-e53c-4b89-ff39-9b188537df21"
   },
   "outputs": [
    {
     "name": "stderr",
     "output_type": "stream",
     "text": [
      "100%|██████████| 79/79 [00:03<00:00, 23.30it/s]"
     ]
    },
    {
     "name": "stdout",
     "output_type": "stream",
     "text": [
      "\n",
      "Accuracy after FGSM attack with epsilon = 0.0314: 10.70%\n"
     ]
    },
    {
     "name": "stderr",
     "output_type": "stream",
     "text": [
      "\n"
     ]
    }
   ],
   "source": [
    "##############################################################################\n",
    "# run untargeted FGSM attack for epsilon = 8/255 and report its accuracy     #\n",
    "##############################################################################\n",
    "epsilon = 8/255\n",
    "fgsm_attack = torchattacks.FGSM(model, eps=epsilon)\n",
    "\n",
    "correct = 0\n",
    "total = 0\n",
    "\n",
    "accuracy = attack_model_eval(fgsm_attack, model, testloader)\n",
    "print(f'\\nAccuracy after FGSM attack with epsilon = {epsilon:.4f}: {accuracy:.2f}%')\n",
    "################################ End #########################################"
   ]
  },
  {
   "cell_type": "markdown",
   "metadata": {
    "id": "Z-nSsst-RFTS"
   },
   "source": [
    "## PGD Attack from scratch (15 pts)"
   ]
  },
  {
   "cell_type": "markdown",
   "metadata": {
    "id": "GIZTnNMVRFTS"
   },
   "source": [
    "In this section you should implement PGD attack from scratch."
   ]
  },
  {
   "cell_type": "code",
   "execution_count": 7,
   "metadata": {
    "id": "uFgsmFBYroy3"
   },
   "outputs": [],
   "source": [
    "class LinfPGDAttack(object):\n",
    "\n",
    "    def __init__(self, model, epsilon = 8/255, k = 2, alpha = 2/255):\n",
    "        self.model = model.eval()\n",
    "        self.epsilon = epsilon\n",
    "        self.steps = k\n",
    "        self.alpha = alpha\n",
    "\n",
    "    def __call__(self, images, labels):\n",
    "\n",
    "        images = images.to(device)\n",
    "        labels = labels.to(device)\n",
    "\n",
    "        out = self.model(images)\n",
    "        _, preds = torch.max(out, 1)\n",
    "\n",
    "        perturbed_images = images.clone()\n",
    "        perturbed_images.to(device)\n",
    "        perturbed_images = perturbed_images + (torch.rand_like(perturbed_images) * 2 - 1) * self.epsilon\n",
    "        perturbed_images = torch.clamp(perturbed_images, 0, 1)\n",
    "\n",
    "\n",
    "        ##############################################################################\n",
    "        # Implement a k step PGD attack of size alpha                                #\n",
    "        # while always staying within epsilon distance from the initial point        #\n",
    "        # Use cross entropy loss                                                     #\n",
    "        ##############################################################################\n",
    "        for _ in range(self.steps):\n",
    "            # Separate the tensor from the previous computation graph and enable a new computation graph for it\n",
    "            perturbed_images = perturbed_images.detach()\n",
    "            perturbed_images.requires_grad = True\n",
    "\n",
    "            outputs = self.model(perturbed_images)\n",
    "            loss = nn.CrossEntropyLoss()(outputs, labels)\n",
    "            grad = torch.autograd.grad(loss, perturbed_images, retain_graph=False, create_graph=False)[0]\n",
    "\n",
    "            perturbed_images = perturbed_images + self.alpha * grad.sign()\n",
    "            perturbed_images = torch.clamp(perturbed_images, min=images - self.epsilon, max=images + self.epsilon)\n",
    "            perturbed_images = torch.clamp(perturbed_images, 0, 1)\n",
    "\n",
    "        # to avoid changing the images that were miss-classified already\n",
    "        for i in range(len(preds)):\n",
    "            if preds[i] != labels[i]:\n",
    "                perturbed_images[i] = images[i]\n",
    "            ################################ End #########################################\n",
    "\n",
    "        return perturbed_images"
   ]
  },
  {
   "cell_type": "code",
   "execution_count": 14,
   "metadata": {
    "colab": {
     "base_uri": "https://localhost:8080/"
    },
    "id": "KUtgigo9roy3",
    "outputId": "990c9319-4ab6-4cd7-8a47-5770b05809d8"
   },
   "outputs": [
    {
     "name": "stderr",
     "output_type": "stream",
     "text": [
      "100%|██████████| 79/79 [00:06<00:00, 11.38it/s]\n"
     ]
    },
    {
     "name": "stdout",
     "output_type": "stream",
     "text": [
      "Accuracy after PGD attack with k-step = 2: 17.78%\n"
     ]
    },
    {
     "name": "stderr",
     "output_type": "stream",
     "text": [
      "100%|██████████| 79/79 [00:11<00:00,  6.68it/s]\n"
     ]
    },
    {
     "name": "stdout",
     "output_type": "stream",
     "text": [
      "Accuracy after PGD attack with k-step = 4: 4.89%\n"
     ]
    },
    {
     "name": "stderr",
     "output_type": "stream",
     "text": [
      "100%|██████████| 79/79 [00:21<00:00,  3.60it/s]"
     ]
    },
    {
     "name": "stdout",
     "output_type": "stream",
     "text": [
      "Accuracy after PGD attack with k-step = 8: 0.80%\n"
     ]
    },
    {
     "name": "stderr",
     "output_type": "stream",
     "text": [
      "\n"
     ]
    }
   ],
   "source": [
    "##############################################################################\n",
    "# Evaluate PGD attack on the trained model with k=2,4,8                      #\n",
    "##############################################################################\n",
    "\n",
    "k_list = [2,4,8]\n",
    "\n",
    "##############################################################################\n",
    "for k in k_list:\n",
    "    pgd_attack = LinfPGDAttack(model=model, k=k)\n",
    "    accuracy = attack_model_eval(pgd_attack, model, testloader)\n",
    "    print(f'Accuracy after PGD attack with k-step = {k}: {accuracy:.2f}%')\n",
    "\n",
    "################################ End #########################################"
   ]
  },
  {
   "cell_type": "markdown",
   "metadata": {
    "id": "svbuh8JFRFTS"
   },
   "source": [
    "## UAP Attack from scratch (15 pts)"
   ]
  },
  {
   "cell_type": "markdown",
   "metadata": {
    "id": "ZT6IYhZ2RFTS"
   },
   "source": [
    "In this section you should implement UAP attack from scratch."
   ]
  },
  {
   "cell_type": "code",
   "execution_count": 8,
   "metadata": {
    "id": "Zt4TlRWLRFTS"
   },
   "outputs": [],
   "source": [
    "class UAPAttack(object):\n",
    "\n",
    "    def __init__(self, model, epsilon=8/255, delta=2/255, max_iters=10, data_loader=None, attack=None, compare_to_grand_truth=False):\n",
    "        self.model = model\n",
    "        self.epsilon = epsilon\n",
    "        self.delta = delta\n",
    "        self.max_iters = max_iters\n",
    "        self.data_loader = data_loader\n",
    "        self.attack = attack # whether to use attacks like deepfool fgsm pgd ... or just use the gradient descent\n",
    "        self.compare_to_grand_truth = compare_to_grand_truth # what target labels use to compare? (in article they use model output not the grand_truth to compare)\n",
    "\n",
    "        # Initialize universal perturbation to zero\n",
    "        self.uap = 0\n",
    "\n",
    "    def generate_uap(self):\n",
    "        \"\"\"\n",
    "        Generate Universal Adversarial Perturbation (UAP) using the dataset.\n",
    "        \"\"\"\n",
    "        for _ in tqdm(range(self.max_iters)):\n",
    "            for images, labels in self.data_loader:\n",
    "                images, labels = images.to(device), labels.to(device)\n",
    "\n",
    "                # Add the current universal perturbation to the images\n",
    "                perturbed_images = images.clone().detach()\n",
    "                perturbed_images.requires_grad = True\n",
    "                perturbed_images = torch.clamp(perturbed_images + self.uap, 0, 1)\n",
    "\n",
    "                # Perform forward pass with perturbed images\n",
    "                outputs = self.model(perturbed_images)\n",
    "                _, preds = torch.max(outputs, 1)\n",
    "\n",
    "                if self.compare_to_grand_truth:\n",
    "                    misclassified_index = preds==labels\n",
    "                else :\n",
    "                    outputs_imgs = self.model(images)\n",
    "                    _, preds_imgs = torch.max(outputs_imgs, 1)\n",
    "                    misclassified_index = preds==preds_imgs\n",
    "                ##############################################################################\n",
    "                # Implement misclassification logic                                          #\n",
    "                # Find misclassified images and calculate the gradient                       #\n",
    "                # Update the universal perturbation using the calculated gradient            #\n",
    "                ##############################################################################\n",
    "                if self.attack is None:\n",
    "                    loss = nn.CrossEntropyLoss()(outputs[misclassified_index], preds_imgs[misclassified_index])\n",
    "                    grad = torch.autograd.grad(loss, perturbed_images, retain_graph=False, create_graph=False)[0]\n",
    "                    v = grad.sign()[misclassified_index]\n",
    "                    self.uap += self.delta * v.mean(dim=0)\n",
    "                else:\n",
    "                    v = self.attack(perturbed_images[misclassified_index], labels[misclassified_index]) - perturbed_images[misclassified_index]\n",
    "                    self.uap += v.mean(dim=0)\n",
    "                ################################ End #########################################\n",
    "\n",
    "                # Project the universal perturbation to the epsilon ball\n",
    "                ##############################################################################\n",
    "                # Implement projection logic to keep UAP within epsilon bounds               #\n",
    "                ##############################################################################\n",
    "                self.uap = torch.sign(self.uap) * torch.minimum(torch.abs(self.uap), torch.tensor(self.epsilon))\n",
    "                torch.cuda.empty_cache()\n",
    "                ################################ End #########################################\n",
    "\n",
    "        return self.uap\n",
    "\n",
    "    def __call__(self, image):\n",
    "        \"\"\"\n",
    "        Apply the universal perturbation to a given image.\n",
    "        \"\"\"\n",
    "        image = image.to(device)\n",
    "        perturbed_image = torch.clamp(image + self.uap, 0, 1)\n",
    "        return perturbed_image"
   ]
  },
  {
   "cell_type": "code",
   "execution_count": 9,
   "metadata": {
    "colab": {
     "base_uri": "https://localhost:8080/"
    },
    "id": "VWH-DttltRTD",
    "outputId": "8261cfac-b451-490a-a3ec-a916b651f795"
   },
   "outputs": [
    {
     "name": "stderr",
     "output_type": "stream",
     "text": [
      "100%|██████████| 10/10 [05:19<00:00, 31.96s/it]\n",
      "100%|██████████| 79/79 [00:10<00:00,  7.75it/s]"
     ]
    },
    {
     "name": "stdout",
     "output_type": "stream",
     "text": [
      "\n",
      "Accuracy on clean data: 74.88%\n",
      "Accuracy on perturbed data (UAP applied): 54.41%\n",
      "Fooling Ratio on perturbed data (UAP applied): 39.05%\n"
     ]
    },
    {
     "name": "stderr",
     "output_type": "stream",
     "text": [
      "\n"
     ]
    }
   ],
   "source": [
    "##############################################################################\n",
    "# Evaluate UAP attack on the trained model with max_iters = 10               #\n",
    "##############################################################################\n",
    "model.load_state_dict(torch.load(\"resnet18_cifar10_model_pretrained.pth\", weights_only=True))\n",
    "model.eval()\n",
    "max_iters = 10\n",
    "##############################################################################\n",
    "uap_attack = UAPAttack(model=model, epsilon=10/255, delta=4/255, max_iters=max_iters, data_loader=trainloader, attack=None)\n",
    "uap = uap_attack.generate_uap()\n",
    "\n",
    "correct_clean = 0\n",
    "correct_adv = 0\n",
    "fooled_adv = 0\n",
    "total = 0\n",
    "\n",
    "with torch.no_grad():\n",
    "    for images, labels in tqdm(testloader):\n",
    "        # predict for orginal image\n",
    "        images, labels = images.to(device), labels.to(device)\n",
    "        outputs_img = model(images)\n",
    "        _, predicted_img = torch.max(outputs_img, 1)\n",
    "\n",
    "        # predict for perturbed image\n",
    "        perturbed_images = uap_attack(images)\n",
    "        outputs_pert = model(perturbed_images)\n",
    "        _, predicted_pert = torch.max(outputs_pert, 1)\n",
    "\n",
    "        correct_clean += (predicted_img == labels).sum().item()\n",
    "        correct_adv += (predicted_pert == labels).sum().item()\n",
    "        fooled_adv += (predicted_pert == predicted_img).sum().item()\n",
    "        total += labels.size(0)\n",
    "\n",
    "accuracy_clean = correct_clean / total * 100\n",
    "accuracy_adv = correct_adv / total * 100\n",
    "fooling_ratio = (1-fooled_adv/ total) * 100\n",
    "print(f'\\nAccuracy on clean data: {accuracy_clean:.2f}%')\n",
    "print(f'Accuracy on perturbed data (UAP applied): {accuracy_adv:.2f}%')\n",
    "print(f'Fooling Ratio on perturbed data (UAP applied): {fooling_ratio:.2f}%')\n",
    "################################ End #########################################"
   ]
  },
  {
   "cell_type": "markdown",
   "metadata": {
    "id": "oq8MWb5uRFTT"
   },
   "source": [
    "## Visualization (10 pts)"
   ]
  },
  {
   "cell_type": "markdown",
   "metadata": {
    "id": "GxUqqmRARFTT"
   },
   "source": [
    "Implement a function to plot the original image, the perturbed imaged and their predicted labels by the model"
   ]
  },
  {
   "cell_type": "code",
   "execution_count": 10,
   "metadata": {
    "id": "tIbgk5UCRFTT"
   },
   "outputs": [],
   "source": [
    "##############################################################################\n",
    "# Implement the function described                                           #\n",
    "##############################################################################\n",
    "def adv_vs_org_plot(original_image, perturbed_image, original_label, perturbed_label):\n",
    "    plt.figure(figsize=(10, 5))\n",
    "\n",
    "    plt.subplot(1, 2, 1)\n",
    "    plt.imshow(original_image)\n",
    "    plt.title(f'Original Image\\nPredicted Label: {original_label}')\n",
    "    plt.axis('off')\n",
    "\n",
    "    plt.subplot(1, 2, 2)\n",
    "    plt.imshow(perturbed_image)\n",
    "    plt.title(f'Perturbed Image\\nPredicted Label: {perturbed_label}')\n",
    "    plt.axis('off')\n",
    "\n",
    "    plt.tight_layout()\n",
    "    plt.show()\n",
    "################################ End #########################################"
   ]
  },
  {
   "cell_type": "code",
   "execution_count": 11,
   "metadata": {
    "colab": {
     "base_uri": "https://localhost:8080/",
     "height": 1000
    },
    "id": "y5MqY1DDRFTT",
    "outputId": "9b17095c-408e-4c75-a677-1b5cbfe5c868"
   },
   "outputs": [
    {
     "data": {
      "image/png": "[encoded data removed]",
      "text/plain": [
       "<Figure size 1000x500 with 2 Axes>"
      ]
     },
     "metadata": {},
     "output_type": "display_data"
    },
    {
     "data": {
      "image/png": "[encoded data removed]",
      "text/plain": [
       "<Figure size 1000x500 with 2 Axes>"
      ]
     },
     "metadata": {},
     "output_type": "display_data"
    },
    {
     "data": {
      "image/png": "[encoded data removed]",
      "text/plain": [
       "<Figure size 1000x500 with 2 Axes>"
      ]
     },
     "metadata": {},
     "output_type": "display_data"
    }
   ],
   "source": [
    "##############################################################################\n",
    "# Choose 3 random images from testset and run FGSM attack and visualize      #\n",
    "##############################################################################\n",
    "np.random.seed(42)\n",
    "random_indices = np.random.choice(len(testset), 3, replace=False)\n",
    "attack = torchattacks.FGSM(model, eps=8/255)\n",
    "\n",
    "classes = ('plane', 'car', 'bird', 'cat', 'deer', 'dog', 'frog', 'horse', 'ship', 'truck')\n",
    "\n",
    "for index in random_indices:\n",
    "    img, label = testset[index]\n",
    "    pert_img = attack(img.unsqueeze(0), torch.tensor(label).unsqueeze(0))\n",
    "    org_img = img.permute(1,2,0).cpu().numpy()\n",
    "    pert_label = model(pert_img).argmax(1).item()\n",
    "    pert_img = pert_img[0].permute(1,2,0).cpu().numpy()\n",
    "    adv_vs_org_plot(org_img, pert_img, classes[label], classes[pert_label])\n",
    "################################ End #########################################"
   ]
  },
  {
   "cell_type": "code",
   "execution_count": 12,
   "metadata": {
    "colab": {
     "base_uri": "https://localhost:8080/",
     "height": 1000
    },
    "id": "1BKU_KR9RFTT",
    "outputId": "89960a13-bd34-4868-e07a-4dfdb3bafae8"
   },
   "outputs": [
    {
     "data": {
      "image/png": "[encoded data removed]",
      "text/plain": [
       "<Figure size 1000x500 with 2 Axes>"
      ]
     },
     "metadata": {},
     "output_type": "display_data"
    },
    {
     "data": {
      "image/png": "[encoded data removed]",
      "text/plain": [
       "<Figure size 1000x500 with 2 Axes>"
      ]
     },
     "metadata": {},
     "output_type": "display_data"
    },
    {
     "data": {
      "image/png": "[encoded data removed]",
      "text/plain": [
       "<Figure size 1000x500 with 2 Axes>"
      ]
     },
     "metadata": {},
     "output_type": "display_data"
    }
   ],
   "source": [
    "##############################################################################\n",
    "# Choose 3 random images from testset and run PGD attack and visualize      #\n",
    "##############################################################################\n",
    "np.random.seed(42)\n",
    "random_indices = np.random.choice(len(testset), 3, replace=False)\n",
    "attack = LinfPGDAttack(model, k=8, epsilon=8/255)\n",
    "\n",
    "classes = ('plane', 'car', 'bird', 'cat', 'deer', 'dog', 'frog', 'horse', 'ship', 'truck')\n",
    "\n",
    "for index in random_indices:\n",
    "    img, label = testset[index]\n",
    "    pert_img = attack(img.unsqueeze(0), torch.tensor(label).unsqueeze(0))\n",
    "    org_img = img.permute(1,2,0).cpu().numpy()\n",
    "    pert_label = model(pert_img).argmax(1).item()\n",
    "    pert_img = pert_img[0].permute(1,2,0).detach().cpu().numpy()\n",
    "    adv_vs_org_plot(org_img, pert_img, classes[label], classes[pert_label])\n",
    "################################ End #########################################"
   ]
  },
  {
   "cell_type": "code",
   "execution_count": 13,
   "metadata": {
    "colab": {
     "base_uri": "https://localhost:8080/",
     "height": 1000
    },
    "id": "kdE37reiRFTT",
    "outputId": "5aea36ed-1226-496d-acc0-17ce391fa82f"
   },
   "outputs": [
    {
     "data": {
      "image/png": "[encoded data removed]",
      "text/plain": [
       "<Figure size 1000x500 with 2 Axes>"
      ]
     },
     "metadata": {},
     "output_type": "display_data"
    },
    {
     "data": {
      "image/png": "[encoded data removed]",
      "text/plain": [
       "<Figure size 1000x500 with 2 Axes>"
      ]
     },
     "metadata": {},
     "output_type": "display_data"
    },
    {
     "data": {
      "image/png": "[encoded data removed]",
      "text/plain": [
       "<Figure size 1000x500 with 2 Axes>"
      ]
     },
     "metadata": {},
     "output_type": "display_data"
    }
   ],
   "source": [
    "##############################################################################\n",
    "# Choose 3 random images from testset and run UAP attack and visualize       #\n",
    "##############################################################################\n",
    "np.random.seed(42)\n",
    "random_indices = np.random.choice(len(testset), 3, replace=False)\n",
    "\n",
    "classes = ('plane', 'car', 'bird', 'cat', 'deer', 'dog', 'frog', 'horse', 'ship', 'truck')\n",
    "\n",
    "for index in random_indices:\n",
    "    img, label = testset[index]\n",
    "    pert_img = uap_attack(img.unsqueeze(0))\n",
    "    org_img = img.permute(1,2,0).cpu().numpy()\n",
    "    pert_label = model(pert_img).argmax(1).item()\n",
    "    pert_img = pert_img[0].permute(1,2,0).detach().cpu().numpy()\n",
    "    adv_vs_org_plot(org_img, pert_img, classes[label], classes[pert_label])\n",
    "\n",
    "################################ End #########################################"
   ]
  },
  {
   "cell_type": "markdown",
   "metadata": {
    "id": "LbKGMVlzRFTT"
   },
   "source": [
    "## Adversarial Training (35 pts)"
   ]
  },
  {
   "cell_type": "markdown",
   "metadata": {
    "id": "gZcOnc-fRFTU"
   },
   "source": [
    "In this section you are going to adversarially train your model and see the results."
   ]
  },
  {
   "cell_type": "code",
   "execution_count": 23,
   "metadata": {
    "colab": {
     "base_uri": "https://localhost:8080/"
    },
    "id": "WH4eNywwRFTU",
    "outputId": "8f4a86aa-7f41-407a-8e3f-5022aeecb65c"
   },
   "outputs": [
    {
     "name": "stdout",
     "output_type": "stream",
     "text": [
      "Epoch [1/100], Loss: 1.987096\n",
      "Epoch [2/100], Loss: 1.749823\n",
      "Epoch [3/100], Loss: 1.662124\n",
      "Epoch [4/100], Loss: 1.582921\n",
      "Epoch [5/100], Loss: 1.517421\n",
      "Epoch [6/100], Loss: 1.448668\n",
      "Epoch [7/100], Loss: 1.386623\n",
      "Epoch [8/100], Loss: 1.320826\n",
      "Epoch [9/100], Loss: 1.257890\n",
      "Epoch [10/100], Loss: 1.202438\n",
      "Epoch [11/100], Loss: 1.137851\n",
      "Epoch [12/100], Loss: 1.066052\n",
      "Epoch [13/100], Loss: 1.007270\n",
      "Epoch [14/100], Loss: 0.954924\n",
      "Epoch [15/100], Loss: 0.850646\n",
      "Epoch [16/100], Loss: 0.811050\n",
      "Epoch [17/100], Loss: 0.702555\n",
      "Epoch [18/100], Loss: 0.618411\n",
      "Epoch [19/100], Loss: 0.572716\n",
      "Epoch [20/100], Loss: 0.504499\n",
      "Epoch [21/100], Loss: 0.434225\n",
      "Epoch [22/100], Loss: 0.381162\n",
      "Epoch [23/100], Loss: 0.345190\n",
      "Epoch [24/100], Loss: 0.300754\n",
      "Epoch [25/100], Loss: 0.282174\n",
      "Epoch [26/100], Loss: 0.241477\n",
      "Epoch [27/100], Loss: 0.220119\n",
      "Epoch [28/100], Loss: 0.201019\n",
      "Epoch [29/100], Loss: 0.183959\n",
      "Epoch [30/100], Loss: 0.183931\n",
      "Epoch [31/100], Loss: 0.167327\n",
      "Epoch [32/100], Loss: 0.155467\n",
      "Epoch [33/100], Loss: 0.153339\n",
      "Epoch [34/100], Loss: 0.149553\n",
      "Epoch [35/100], Loss: 0.139211\n",
      "Epoch [36/100], Loss: 0.128001\n",
      "Epoch [37/100], Loss: 0.125797\n",
      "Epoch [38/100], Loss: 0.126969\n",
      "Epoch [39/100], Loss: 0.122455\n",
      "Epoch [40/100], Loss: 0.111794\n",
      "Epoch [41/100], Loss: 0.108952\n",
      "Epoch [42/100], Loss: 0.115996\n",
      "Epoch [43/100], Loss: 0.106006\n",
      "Epoch [44/100], Loss: 0.104730\n",
      "Epoch [45/100], Loss: 0.099184\n",
      "Epoch [46/100], Loss: 0.105793\n",
      "Epoch [47/100], Loss: 0.095305\n",
      "Epoch [48/100], Loss: 0.098954\n",
      "Epoch [49/100], Loss: 0.094534\n",
      "Epoch [50/100], Loss: 0.094910\n",
      "Epoch [51/100], Loss: 0.089335\n",
      "Epoch [52/100], Loss: 0.086817\n",
      "Epoch [53/100], Loss: 0.088021\n",
      "Epoch [54/100], Loss: 0.084767\n",
      "Epoch [55/100], Loss: 0.081205\n",
      "Epoch [56/100], Loss: 0.083751\n",
      "Epoch [57/100], Loss: 0.080820\n",
      "Epoch [58/100], Loss: 0.078671\n",
      "Epoch [59/100], Loss: 0.073526\n",
      "Epoch [60/100], Loss: 0.073913\n",
      "Epoch [61/100], Loss: 0.075496\n",
      "Epoch [62/100], Loss: 0.070406\n",
      "Epoch [63/100], Loss: 0.074933\n",
      "Epoch [64/100], Loss: 0.067827\n",
      "Epoch [65/100], Loss: 0.066614\n",
      "Epoch [66/100], Loss: 0.072734\n",
      "Epoch [67/100], Loss: 0.063449\n",
      "Epoch [68/100], Loss: 0.061486\n",
      "Epoch [69/100], Loss: 0.067212\n",
      "Epoch [70/100], Loss: 0.060296\n",
      "Epoch [71/100], Loss: 0.061731\n",
      "Epoch [72/100], Loss: 0.058767\n",
      "Epoch [73/100], Loss: 0.055230\n",
      "Epoch [74/100], Loss: 0.059057\n",
      "Epoch [75/100], Loss: 0.059759\n",
      "Epoch [76/100], Loss: 0.059317\n",
      "Epoch [77/100], Loss: 0.060351\n",
      "Epoch [78/100], Loss: 0.058159\n",
      "Epoch [79/100], Loss: 0.053734\n",
      "Epoch [80/100], Loss: 0.056077\n",
      "Epoch [81/100], Loss: 0.051472\n",
      "Epoch [82/100], Loss: 0.051787\n",
      "Epoch [83/100], Loss: 0.053290\n",
      "Epoch [84/100], Loss: 0.047345\n",
      "Epoch [85/100], Loss: 0.051142\n",
      "Epoch [86/100], Loss: 0.046433\n",
      "Epoch [87/100], Loss: 0.048135\n",
      "Epoch [88/100], Loss: 0.052067\n",
      "Epoch [89/100], Loss: 0.047334\n",
      "Epoch [90/100], Loss: 0.048604\n",
      "Epoch [91/100], Loss: 0.042622\n",
      "Epoch [92/100], Loss: 0.047014\n",
      "Epoch [93/100], Loss: 0.045435\n",
      "Epoch [94/100], Loss: 0.043529\n",
      "Epoch [95/100], Loss: 0.042180\n",
      "Epoch [96/100], Loss: 0.042509\n",
      "Epoch [97/100], Loss: 0.043506\n",
      "Epoch [98/100], Loss: 0.042584\n",
      "Epoch [99/100], Loss: 0.045173\n",
      "Epoch [100/100], Loss: 0.041927\n"
     ]
    }
   ],
   "source": [
    "##############################################################################\n",
    "# Load a new resnet model for adversarial training                           #\n",
    "# Train the model on perturbed images from                                   #\n",
    "# untargeted FGSM attack with epsilon = 8/255 on train dataset               #\n",
    "# Also use the following setup for training the model                        #\n",
    "##############################################################################\n",
    "\n",
    "adv_model = resnet(len(classes))\n",
    "adv_model.to(device)\n",
    "\n",
    "learning_rate = 0.01\n",
    "criterion = nn.CrossEntropyLoss()\n",
    "optimizer = optim.SGD(adv_model.parameters(), lr=learning_rate, momentum=0.9)\n",
    "epochs = 100\n",
    "epsilon = 8/255\n",
    "\n",
    "# Your code goes here\n",
    "for epoch in range(epochs):\n",
    "    running_loss = 0.0\n",
    "\n",
    "    for inputs, labels in trainloader:\n",
    "        optimizer.zero_grad()\n",
    "        inputs, labels = inputs.to(device), labels.to(device)\n",
    "        inputs.requires_grad = True\n",
    "\n",
    "        clean_outputs = adv_model(inputs)\n",
    "        clean_loss = 0.5 * criterion(clean_outputs, labels)\n",
    "        clean_loss.backward()\n",
    "\n",
    "        adv_images = inputs + epsilon * inputs.grad.detach().sign()\n",
    "        adv_outputs = adv_model(adv_images)\n",
    "        adv_loss = 0.5 * criterion(adv_outputs, labels)\n",
    "\n",
    "        adv_loss.backward()\n",
    "        optimizer.step()\n",
    "        running_loss += (adv_loss + clean_loss).item()\n",
    "\n",
    "    epoch_loss = running_loss / len(trainloader)\n",
    "    print(f\"Epoch [{epoch+1}/{epochs}], Loss: {epoch_loss:.6f}\")\n",
    "################################ End #########################################"
   ]
  },
  {
   "cell_type": "code",
   "execution_count": 24,
   "metadata": {
    "id": "nGv1dNtxEa9m"
   },
   "outputs": [],
   "source": [
    "adv_model.eval()\n",
    "model_name = \"adv_resnet18_cifar10_model_pretrained.pth\"\n",
    "model_PATH = f\"{model_name}\"\n",
    "torch.save(adv_model.state_dict(), model_PATH)"
   ]
  },
  {
   "cell_type": "code",
   "execution_count": 25,
   "metadata": {
    "colab": {
     "base_uri": "https://localhost:8080/"
    },
    "id": "A9Wg73HHRFTU",
    "outputId": "24d65eb5-6770-4954-89e1-9a1953a4c2c8"
   },
   "outputs": [
    {
     "name": "stdout",
     "output_type": "stream",
     "text": [
      "Test Accuracy: 64.99%\n"
     ]
    }
   ],
   "source": [
    "##############################################################################\n",
    "# Evaluate the new model on the test dataset                                 #\n",
    "##############################################################################\n",
    "adv_model.eval()\n",
    "correct = 0\n",
    "total = 0\n",
    "\n",
    "with torch.no_grad():\n",
    "    for inputs, labels in testloader:\n",
    "        inputs, labels = inputs.to(device), labels.to(device)\n",
    "\n",
    "        outputs = adv_model(inputs)\n",
    "        _, predicted = torch.max(outputs, 1)\n",
    "\n",
    "        correct += (predicted == labels).sum().item()\n",
    "        total += labels.size(0)\n",
    "\n",
    "accuracy = 100 * correct / total\n",
    "print(f'Test Accuracy: {accuracy:.2f}%')\n",
    "\n",
    "################################ End #########################################"
   ]
  },
  {
   "cell_type": "code",
   "execution_count": 26,
   "metadata": {
    "colab": {
     "base_uri": "https://localhost:8080/"
    },
    "id": "CRewQvhJRFTU",
    "outputId": "2c863ea0-31f0-4b8e-8eed-f64994067041"
   },
   "outputs": [
    {
     "name": "stderr",
     "output_type": "stream",
     "text": [
      "100%|██████████| 79/79 [00:03<00:00, 22.23it/s]"
     ]
    },
    {
     "name": "stdout",
     "output_type": "stream",
     "text": [
      "\n",
      "Accuracy after FGSM attack with epsilon = 0.0314: 23.48%\n"
     ]
    },
    {
     "name": "stderr",
     "output_type": "stream",
     "text": [
      "\n"
     ]
    }
   ],
   "source": [
    "##############################################################################\n",
    "# Run FGSM attack on the adversarially trained model with epsilon = 8/255    #\n",
    "##############################################################################\n",
    "epsilon = 8/255\n",
    "fgsm_attack = torchattacks.FGSM(adv_model, eps=epsilon)\n",
    "\n",
    "accuracy = attack_model_eval(fgsm_attack, adv_model, testloader)\n",
    "print(f'\\nAccuracy after FGSM attack with epsilon = {epsilon:.4f}: {accuracy:.2f}%')\n",
    "################################ End #########################################"
   ]
  },
  {
   "cell_type": "code",
   "execution_count": 28,
   "metadata": {
    "colab": {
     "base_uri": "https://localhost:8080/"
    },
    "id": "tOefTFllRFTU",
    "outputId": "bd2a6a82-4aef-4998-edd1-4a67094ebb3c"
   },
   "outputs": [
    {
     "name": "stderr",
     "output_type": "stream",
     "text": [
      "100%|██████████| 79/79 [00:11<00:00,  6.63it/s]"
     ]
    },
    {
     "name": "stdout",
     "output_type": "stream",
     "text": [
      "\n",
      "Accuracy after PGD attack with k-step = 4: 23.95%\n"
     ]
    },
    {
     "name": "stderr",
     "output_type": "stream",
     "text": [
      "\n"
     ]
    }
   ],
   "source": [
    "##############################################################################\n",
    "#  Run PGD attack on the adversarially trained model with k=4                #\n",
    "##############################################################################\n",
    "pgd_attack = LinfPGDAttack(model=adv_model, k=4)\n",
    "\n",
    "accuracy = attack_model_eval(pgd_attack, adv_model, testloader)\n",
    "print(f'\\nAccuracy after PGD attack with k-step = {4}: {accuracy:.2f}%')\n",
    "################################ End #########################################"
   ]
  },
  {
   "cell_type": "code",
   "execution_count": 29,
   "metadata": {
    "colab": {
     "base_uri": "https://localhost:8080/"
    },
    "id": "zYjMvmYMRFTU",
    "outputId": "ab2ddcde-5309-49f3-8870-d43edb895b2d"
   },
   "outputs": [
    {
     "name": "stderr",
     "output_type": "stream",
     "text": [
      "100%|██████████| 10/10 [03:19<00:00, 19.92s/it]\n",
      "100%|██████████| 79/79 [00:02<00:00, 38.65it/s]"
     ]
    },
    {
     "name": "stdout",
     "output_type": "stream",
     "text": [
      "\n",
      "Accuracy on clean data: 64.99%\n",
      "Accuracy on perturbed data (UAP applied): 62.56%\n",
      "Fooling Ratio on perturbed data (UAP applied): 16.68%\n"
     ]
    },
    {
     "name": "stderr",
     "output_type": "stream",
     "text": [
      "\n"
     ]
    }
   ],
   "source": [
    "##############################################################################\n",
    "#  Run UAP attack on the adversarially trained model with max_iters = 10     #\n",
    "##############################################################################\n",
    "max_iters = 10\n",
    "uap_attack = UAPAttack(model=adv_model, epsilon=10/255, delta=4/255, max_iters=max_iters, data_loader=trainloader, attack=None)\n",
    "uap = uap_attack.generate_uap()\n",
    "\n",
    "correct_clean = 0\n",
    "correct_adv = 0\n",
    "fooled_adv = 0\n",
    "total = 0\n",
    "\n",
    "with torch.no_grad():\n",
    "    for images, labels in tqdm(testloader):\n",
    "        # predict for orginal image\n",
    "        images, labels = images.to(device), labels.to(device)\n",
    "        outputs_img = adv_model(images)\n",
    "        _, predicted_img = torch.max(outputs_img, 1)\n",
    "\n",
    "        # predict for perturbed image\n",
    "        perturbed_images = uap_attack(images)\n",
    "        outputs_pert = adv_model(perturbed_images)\n",
    "        _, predicted_pert = torch.max(outputs_pert, 1)\n",
    "\n",
    "        correct_clean += (predicted_img == labels).sum().item()\n",
    "        correct_adv += (predicted_pert == labels).sum().item()\n",
    "        fooled_adv += (predicted_pert == predicted_img).sum().item()\n",
    "        total += labels.size(0)\n",
    "\n",
    "accuracy_clean = correct_clean / total * 100\n",
    "accuracy_adv = correct_adv / total * 100\n",
    "fooling_ratio = (1-fooled_adv/ total) * 100\n",
    "print(f'\\nAccuracy on clean data: {accuracy_clean:.2f}%')\n",
    "print(f'Accuracy on perturbed data (UAP applied): {accuracy_adv:.2f}%')\n",
    "print(f'Fooling Ratio on perturbed data (UAP applied): {fooling_ratio:.2f}%')\n",
    "################################ End #########################################"
   ]
  },
  {
   "cell_type": "markdown",
   "metadata": {
    "id": "qKP3w-sARFTU"
   },
   "source": [
    "Answer the following questions:\n",
    "- What happened to the accuracy of the adversarially trained model? its decreased compared to normal training\n",
    "- What do you conclude from the result of the FGSM attack on the adversarially trained model? the accuracy increased on test adversarial examples that were generated with FGSM and its because we made the model more robust by adversarial training \n",
    "- What do you conclude from the result of the PGD attack on the adversarially trained model? the accuracy increased on test adversarial examples that were generated with PGD even that the adversarial training data was with FGSM method. The reason is that both FGSM and PGD take advantage of same weakness of DNN models\n",
    "- What do you conclude from the result of the UAP attack on the adversarially trained model? my answer is the same for the UAP with what I said about PGD\n",
    "- What is you final conclusion? Adversarial Training is a trade-off between robustness and clean-accuracy you lose one a little and you get of another. The procedure makes the model learn better decesion bounderies and it ends up with some samples missclassified. "
   ]
  }
 ],
 "metadata": {
  "accelerator": "GPU",
  "colab": {
   "gpuType": "T4",
   "provenance": []
  },
  "kernelspec": {
   "display_name": "Python 3",
   "name": "python3"
  },
  "language_info": {
   "codemirror_mode": {
    "name": "ipython",
    "version": 3
   },
   "file_extension": ".py",
   "mimetype": "text/x-python",
   "name": "python",
   "nbconvert_exporter": "python",
   "pygments_lexer": "ipython3",
   "version": "3.10.0"
  }
 },
 "nbformat": 4,
 "nbformat_minor": 0
}
