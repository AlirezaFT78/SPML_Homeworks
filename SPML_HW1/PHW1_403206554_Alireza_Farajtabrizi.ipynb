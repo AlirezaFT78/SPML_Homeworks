{
 "cells": [
  {
   "cell_type": "markdown",
   "metadata": {
    "id": "ooJtNr5dGrH9"
   },
   "source": [
    "**Name:** Alireza Farajtabrizi  \n",
    "\n",
    "**Student Number:** 403206554\n",
    "\n",
    "\n"
   ]
  },
  {
   "cell_type": "markdown",
   "metadata": {
    "id": "ZJm9Z1k0cdmh"
   },
   "source": [
    "# Neural-Network with Numpy"
   ]
  },
  {
   "cell_type": "markdown",
   "metadata": {
    "id": "LDN075MYGesD"
   },
   "source": [
    "In this notebook, you are going to write and implement all the components required to create and train a two-layered neural network using NumPy."
   ]
  },
  {
   "cell_type": "markdown",
   "metadata": {
    "id": "wt3FdxgNcdmm"
   },
   "source": [
    "## Imports & Seeding:"
   ]
  },
  {
   "cell_type": "markdown",
   "metadata": {
    "id": "oPZ4zlnxqhl5"
   },
   "source": [
    "Importing some common libraries"
   ]
  },
  {
   "cell_type": "code",
   "execution_count": 1,
   "metadata": {
    "id": "Et7OS7TGcdmn"
   },
   "outputs": [],
   "source": [
    "import numpy as np\n",
    "import matplotlib.pyplot as plt\n",
    "import pandas as pd\n",
    "np.random.seed(42)\n",
    "%matplotlib inline"
   ]
  },
  {
   "cell_type": "markdown",
   "metadata": {
    "id": "Fa2v2-xbcdmo"
   },
   "source": [
    "## Preparing the data"
   ]
  },
  {
   "cell_type": "markdown",
   "metadata": {
    "id": "bKWqV2Gycdmp"
   },
   "source": [
    "You'll train and evaluate your model on [Fashion MNIST](https://en.wikipedia.org/wiki/Fashion_MNIST) dataset. In this section, you'll download Fashion MNIST and split it into training and testing datasets."
   ]
  },
  {
   "cell_type": "code",
   "execution_count": 2,
   "metadata": {
    "id": "tMYZtSoLc7c-"
   },
   "outputs": [
    {
     "name": "stdout",
     "output_type": "stream",
     "text": [
      "(70000, 784) (70000,)\n"
     ]
    }
   ],
   "source": [
    "from sklearn.datasets import fetch_openml\n",
    "\n",
    "# Using `fetch_openml`, download `Fashion-MNIST` \n",
    "# and save the training data and labels in `X` and `y` respectively.\n",
    "#############################\n",
    "# Your code goes here (5 points)\n",
    "fashion_mnist = fetch_openml('Fashion-MNIST', version=1)\n",
    "X = fashion_mnist.data\n",
    "y = fashion_mnist.target    \n",
    "#############################\n",
    "\n",
    "# Normalization:\n",
    "X = ((X / 255.) - .5) * 2\n",
    "\n",
    "print(X.shape, y.shape)"
   ]
  },
  {
   "cell_type": "code",
   "execution_count": 3,
   "metadata": {
    "id": "sDmxyMJ4dBk3"
   },
   "outputs": [
    {
     "name": "stdout",
     "output_type": "stream",
     "text": [
      "(60000, 784) (60000,) (10000, 784) (10000,)\n"
     ]
    }
   ],
   "source": [
    "from sklearn.model_selection import train_test_split\n",
    "\n",
    "# Using `train_test_split`, split your data into two sets. \n",
    "# Set the test_size to 10000\n",
    "\n",
    "#############################\n",
    "# Your code goes here (6 points)\n",
    "x_train, x_test, y_train, y_test = train_test_split(X, y, test_size=10000, random_state=42)\n",
    "#############################\n",
    "\n",
    "print(x_train.shape, y_train.shape, x_test.shape, y_test.shape)"
   ]
  },
  {
   "cell_type": "markdown",
   "metadata": {
    "id": "PiGTXGXKcdmt"
   },
   "source": [
    "## Prepare training & validation sets"
   ]
  },
  {
   "cell_type": "markdown",
   "metadata": {
    "id": "ba3nNYlDcdmt"
   },
   "source": [
    "We'll use only 3 classes from Fashion MNIST: Trouser, T-shirt, and Sneaker classes.\n",
    "\n",
    "The class labels for T-shirt, Trouser, and Sneaker are 0, 1, and 7 respectively.\n",
    "\n",
    "In this part, you'll limit the testing and training sets to only these three classes."
   ]
  },
  {
   "cell_type": "code",
   "execution_count": 4,
   "metadata": {
    "id": "TcBDZEtzcdmu"
   },
   "outputs": [
    {
     "name": "stdout",
     "output_type": "stream",
     "text": [
      "(18022, 784) (18022,)\n"
     ]
    }
   ],
   "source": [
    "# Modify `y_train` and `x_train`.\n",
    "# Only keep the 3 classes mentioned above. \n",
    "#############################\n",
    "# Your code goes here (4 points)\n",
    "classes_to_keep = ['0', '1', '7']\n",
    "\n",
    "mask = np.isin(y_train, classes_to_keep)\n",
    "\n",
    "x_train = x_train[mask]\n",
    "y_train = y_train[mask]\n",
    "y_train = np.array(y_train, dtype=int)\n",
    "y_train[y_train==7]=2\n",
    "#############################\n",
    "\n",
    "print(x_train.shape, y_train.shape)"
   ]
  },
  {
   "cell_type": "code",
   "execution_count": 5,
   "metadata": {
    "id": "LX2hkRe1cdmw"
   },
   "outputs": [
    {
     "name": "stdout",
     "output_type": "stream",
     "text": [
      "(2978, 784) (2978,)\n"
     ]
    }
   ],
   "source": [
    "# Modify `y_test` and `x_test`.\n",
    "# Only keep the 3 classes mentioned above. \n",
    "#############################\n",
    "# Your code goes here (4 points)\n",
    "classes_to_keep = ['0', '1', '7']\n",
    "\n",
    "mask = np.isin(y_test, classes_to_keep)\n",
    "\n",
    "x_test = x_test[mask]\n",
    "y_test = y_test[mask]\n",
    "y_test = np.array(y_test, dtype=int)\n",
    "y_test[y_test==7]=2\n",
    "#############################\n",
    "\n",
    "print(x_test.shape, y_test.shape)"
   ]
  },
  {
   "cell_type": "markdown",
   "metadata": {
    "id": "Gv6SMLUktWbv"
   },
   "source": [
    "## Linear & Activation Functions"
   ]
  },
  {
   "cell_type": "markdown",
   "metadata": {
    "id": "IXlyJo5JteKC"
   },
   "source": [
    "In this part, you'll implement the forward and backward process for the following components:\n",
    "- Softmax Layer\n",
    "- Linear Layer\n",
    "- ReLU Layer\n",
    "- Sigmoid Layer"
   ]
  },
  {
   "cell_type": "markdown",
   "metadata": {
    "id": "BXtAD5uYA4sQ"
   },
   "source": [
    "### The `Softmax` Layer"
   ]
  },
  {
   "cell_type": "code",
   "execution_count": 6,
   "metadata": {
    "id": "tzaIVo-_Axp7"
   },
   "outputs": [],
   "source": [
    "class SoftMaxLayer(object):\n",
    "    def __init__(self):\n",
    "        self.inp = None\n",
    "        self.output = None\n",
    "\n",
    "    def forward(self, x):\n",
    "        # Write the forward pass for softmax.\n",
    "        # Save the values required for the backward pass.\n",
    "        #############################\n",
    "        # Your code goes here (4 points)\n",
    "        self.inp = x\n",
    "        exp_x = np.exp(x)\n",
    "        self.output = exp_x / np.sum(exp_x, axis=1, keepdims=True)\n",
    "        #############################\n",
    "        return self.output\n",
    "\n",
    "    def backward(self, up_grad):\n",
    "        # Write the backward pass for softmax.\n",
    "        #############################\n",
    "        # Your code goes here (4 points)\n",
    "        batch_size = self.output.shape[0]\n",
    "        grad = np.zeros_like(up_grad)\n",
    "        \n",
    "        for i in range(batch_size):\n",
    "            y = self.output[i].reshape(-1, 1)\n",
    "            jacobian = np.diagflat(y) - np.dot(y, y.T)\n",
    "            grad[i] = np.dot(jacobian, up_grad[i])\n",
    "            \n",
    "        return grad\n",
    "        #############################\n",
    "\n",
    "    def step(self, optimizer):\n",
    "        pass"
   ]
  },
  {
   "cell_type": "markdown",
   "metadata": {
    "id": "AcFoIDZjcdnB"
   },
   "source": [
    "### The `Linear` Layer "
   ]
  },
  {
   "cell_type": "code",
   "execution_count": 7,
   "metadata": {
    "id": "1strsTh6cdnG"
   },
   "outputs": [],
   "source": [
    "class Linear:\n",
    "    def __init__(self, in_dim, out_dim):\n",
    "        # Initialize the layer's weights and biases\n",
    "        #############################\n",
    "        # Your code goes here (2 points)\n",
    "        self.w = np.random.randn(out_dim, in_dim) * 0.1\n",
    "        self.b = np.zeros((1, out_dim))  \n",
    "        #############################\n",
    "        self.dw = None\n",
    "        self.db = None\n",
    "        \n",
    "    def forward(self, inp):\n",
    "        # Compute linear layer's output.\n",
    "        # Save the value(s) required for the backward phase.\n",
    "        #############################\n",
    "        # Your code goes here (4 points)\n",
    "        self.inp = inp  \n",
    "        z = np.dot(self.inp, self.w.T) + self.b \n",
    "        #############################\n",
    "        return z\n",
    "    \n",
    "    def backward(self, up_grad):\n",
    "        # Calculate the gradient with respect to the weights \n",
    "        # and biases and save the results.\n",
    "        #############################\n",
    "        # Your code goes here (6 points)\n",
    "        self.dw = np.dot(up_grad.T, self.inp)\n",
    "        self.db = np.sum(up_grad, axis=0, keepdims=True)\n",
    "        down_grad = np.dot(up_grad, self.w)\n",
    "        #############################\n",
    "        return down_grad\n",
    "\n",
    "    def step(self, optimizer):\n",
    "        # Update the layer's weights and biases\n",
    "        # Update previous_w_update and previous_b_update accordingly\n",
    "        #############################\n",
    "        # Your code goes here (5 points)]\n",
    "        self.previous_w_update = self.w\n",
    "        self.previous_b_update = self.b\n",
    "\n",
    "        self.w = optimizer.get_next_update(self.w, self.dw)\n",
    "        self.b = optimizer.get_next_update(self.b, self.db)\n",
    "        \n",
    "        self.previous_w_update = self.w - self.previous_w_update\n",
    "        self.previous_b_update = self.b - self.previous_b_update\n",
    "        #############################"
   ]
  },
  {
   "cell_type": "markdown",
   "metadata": {
    "id": "M0Lfo-nhcdnG"
   },
   "source": [
    "### The `ReLU` Layer"
   ]
  },
  {
   "cell_type": "code",
   "execution_count": 8,
   "metadata": {
    "id": "tN6vcirMcdnH"
   },
   "outputs": [],
   "source": [
    "class RelU:\n",
    "    def __init__(self):\n",
    "        self.inp = None\n",
    "\n",
    "    def forward(self, inp):\n",
    "        # Write the forward pass for ReLU.\n",
    "        # Save the value(s) required for the backward pass.\n",
    "        #############################\n",
    "        # Your code goes here (4 points)\n",
    "        self.inp = inp\n",
    "\n",
    "        output = np.maximum(0, inp)\n",
    "        #############################\n",
    "        return output\n",
    "    \n",
    "    def backward(self, up_grad):\n",
    "        #############################\n",
    "        # Your code goes here (4 points)\n",
    "        down_grad = np.zeros_like(up_grad)\n",
    "        down_grad[self.inp > 0] = up_grad[self.inp > 0]\n",
    "        #############################\n",
    "        return down_grad\n",
    "\n",
    "    def step(self, optimizer):\n",
    "        pass"
   ]
  },
  {
   "cell_type": "markdown",
   "metadata": {
    "id": "Z00KoSI3cdnJ"
   },
   "source": [
    "### The `sigmoid` Layer"
   ]
  },
  {
   "cell_type": "code",
   "execution_count": 9,
   "metadata": {
    "id": "TTYYeL2lcdnJ"
   },
   "outputs": [],
   "source": [
    "class Sigmoid:\n",
    "    def forward(self, inp):\n",
    "        #############################\n",
    "        # Your code goes here (4 points)\n",
    "        self.out = 1 / (1 + np.exp(-inp))\n",
    "        #############################\n",
    "        return self.out\n",
    "    \n",
    "    def backward(self, up_grad):\n",
    "        #############################\n",
    "        # Your code goes here (4 points)\n",
    "        down_grad = up_grad * (self.out * (1 - self.out))\n",
    "        #############################\n",
    "        return down_grad\n",
    "    \n",
    "    def step(self, optimizer):\n",
    "        pass"
   ]
  },
  {
   "cell_type": "markdown",
   "metadata": {
    "id": "zngleGY2cdnK"
   },
   "source": [
    "## `Loss` function :"
   ]
  },
  {
   "cell_type": "markdown",
   "metadata": {
    "id": "ISedT4FvcdnK"
   },
   "source": [
    "For this task we are going to use the [Cross-Entropy Loss](https://en.wikipedia.org/wiki/Cross_entropy)."
   ]
  },
  {
   "cell_type": "code",
   "execution_count": 10,
   "metadata": {
    "id": "XQyz4ybycdnL"
   },
   "outputs": [],
   "source": [
    "class CELoss():\n",
    "    def __init__(self):\n",
    "        pass\n",
    "\n",
    "    def forward(self, pred, target):\n",
    "        \n",
    "        self.yhat = pred\n",
    "        self.y = target\n",
    "        m = self.y.shape[0]\n",
    "        # Commpute and return the loss \n",
    "        #############################\n",
    "        # Your code goes here (8 points)\n",
    "        gathered_probs = pred[self.y==1]\n",
    "        loss = -np.mean(np.log(gathered_probs + 1e-15))\n",
    "        return loss\n",
    "        #############################\n",
    "        \n",
    "    \n",
    "    def backward(self):\n",
    "        # Derivative of loss_fn with respect to a the predicted label.\n",
    "        # Use `self.y` and `self.yhat` to compute and return `grad`.\n",
    "        #############################\n",
    "        # Your code goes here (6 points)\n",
    "        m = self.y.shape[0]\n",
    "        grad = np.zeros_like(self.yhat)\n",
    "        \n",
    "        grad[self.y==1] = -1 / (self.yhat[self.y==1] + 1e-15)\n",
    "        grad = grad / m\n",
    "        #############################\n",
    "        return grad"
   ]
  },
  {
   "cell_type": "markdown",
   "metadata": {
    "id": "xovZI-70kB9I"
   },
   "source": [
    "## Optimizer\n",
    "\n",
    "In this section, you'll implement an optimizer classes\n"
   ]
  },
  {
   "cell_type": "code",
   "execution_count": 11,
   "metadata": {},
   "outputs": [],
   "source": [
    "class GradientDescent(object):\n",
    "    def __init__(self, lr):\n",
    "        self.lr = lr\n",
    "\n",
    "    def get_next_update(self, x, dx):\n",
    "        # Compute the new value for 'x' and return the result\n",
    "        #############################\n",
    "        # Your code goes here (2 points)\n",
    "        x = x - self.lr * dx\n",
    "        return x\n",
    "        #############################"
   ]
  },
  {
   "cell_type": "markdown",
   "metadata": {
    "id": "LxxrEEovYEFi"
   },
   "source": [
    "## The Model\n",
    "Now you'll write the base class for a multi-layer perceptron network."
   ]
  },
  {
   "cell_type": "code",
   "execution_count": 12,
   "metadata": {
    "id": "t8SoZeYRcdnY"
   },
   "outputs": [],
   "source": [
    "class MLP:\n",
    "    def __init__(self, layers, loss_fn, optimizer):\n",
    "        self.layers = layers \n",
    "        self.losses  = [] \n",
    "        self.loss_fn = loss_fn\n",
    "        self.optimizer = optimizer\n",
    "\n",
    "    def forward(self, inp):\n",
    "        # Pass `inp` to all the layers sequentially\n",
    "        # and return the result.\n",
    "        #############################\n",
    "        # Your code goes here (4 points)\n",
    "        for layer in self.layers:\n",
    "            inp = layer.forward(inp)\n",
    "        return inp\n",
    "        #############################\n",
    "        \n",
    "    \n",
    "    def loss(self, pred, label):\n",
    "        loss = self.loss_fn.forward(pred, label)\n",
    "        self.losses.append(loss)\n",
    "        return loss\n",
    "\n",
    "    def backward(self):\n",
    "        # Start with loss function's gradient and \n",
    "        # do the backward pass on all the layers.\n",
    "        #############################\n",
    "        # Your code goes here (5 points)\n",
    "        grad = self.loss_fn.backward()  \n",
    "        for layer in reversed(self.layers):\n",
    "            grad = layer.backward(grad)\n",
    "        #############################\n",
    "        \n",
    "    def update(self):\n",
    "        for layer in self.layers:\n",
    "            layer.step(self.optimizer)\n",
    "            "
   ]
  },
  {
   "cell_type": "markdown",
   "metadata": {
    "id": "zo0rNwYciueF"
   },
   "source": [
    "The following cell encodes training labels into a one-hot representation with 3 classes."
   ]
  },
  {
   "cell_type": "code",
   "execution_count": 13,
   "metadata": {
    "id": "nhJTulaFJ4vR"
   },
   "outputs": [],
   "source": [
    "def onehot_enc(y, num_labels):\n",
    "    ary = np.zeros((y.shape[0], num_labels))\n",
    "    for i, val in enumerate(y):\n",
    "        ary[i, int(val)] = 1\n",
    "    return ary\n",
    "\n",
    "y_train = onehot_enc(y_train, 3)"
   ]
  },
  {
   "cell_type": "code",
   "execution_count": 14,
   "metadata": {
    "id": "TS6S_RUwsRkF"
   },
   "outputs": [],
   "source": [
    "def train(model, epochs, x, y):\n",
    "    for n in range(epochs):\n",
    "        # First do the forward pass. Next, compute the loss.\n",
    "        # Then do the backward pass and finally, update the parameters.\n",
    "        #############################\n",
    "        # Your code goes here (4 points)\n",
    "        y_pred = model.forward(x)\n",
    "        loss = model.loss(y_pred, y)\n",
    "        model.backward()\n",
    "        model.update()\n",
    "        #############################\n",
    "        print(f\"Loss at {n}: {loss:.3f}\")"
   ]
  },
  {
   "cell_type": "code",
   "execution_count": 18,
   "metadata": {
    "id": "m1lSq2jNcdnY",
    "scrolled": false
   },
   "outputs": [
    {
     "name": "stdout",
     "output_type": "stream",
     "text": [
      "Loss at 0: 1.104\n",
      "Loss at 1: 1.077\n",
      "Loss at 2: 1.051\n",
      "Loss at 3: 1.027\n",
      "Loss at 4: 1.004\n",
      "Loss at 5: 0.981\n",
      "Loss at 6: 0.958\n",
      "Loss at 7: 0.934\n",
      "Loss at 8: 0.910\n",
      "Loss at 9: 0.886\n",
      "Loss at 10: 0.863\n",
      "Loss at 11: 0.842\n",
      "Loss at 12: 0.822\n",
      "Loss at 13: 0.804\n",
      "Loss at 14: 0.788\n",
      "Loss at 15: 0.774\n",
      "Loss at 16: 0.761\n",
      "Loss at 17: 0.749\n",
      "Loss at 18: 0.738\n",
      "Loss at 19: 0.728\n",
      "Loss at 20: 0.719\n",
      "Loss at 21: 0.711\n",
      "Loss at 22: 0.704\n",
      "Loss at 23: 0.697\n",
      "Loss at 24: 0.691\n",
      "Loss at 25: 0.685\n",
      "Loss at 26: 0.680\n",
      "Loss at 27: 0.675\n",
      "Loss at 28: 0.670\n",
      "Loss at 29: 0.666\n",
      "Loss at 30: 0.662\n",
      "Loss at 31: 0.658\n",
      "Loss at 32: 0.655\n",
      "Loss at 33: 0.652\n",
      "Loss at 34: 0.649\n",
      "Loss at 35: 0.646\n",
      "Loss at 36: 0.643\n",
      "Loss at 37: 0.641\n",
      "Loss at 38: 0.638\n",
      "Loss at 39: 0.636\n",
      "Loss at 40: 0.634\n",
      "Loss at 41: 0.632\n",
      "Loss at 42: 0.630\n",
      "Loss at 43: 0.628\n",
      "Loss at 44: 0.626\n",
      "Loss at 45: 0.625\n",
      "Loss at 46: 0.623\n",
      "Loss at 47: 0.622\n",
      "Loss at 48: 0.620\n",
      "Loss at 49: 0.619\n",
      "Loss at 50: 0.618\n",
      "Loss at 51: 0.617\n",
      "Loss at 52: 0.615\n",
      "Loss at 53: 0.614\n",
      "Loss at 54: 0.613\n",
      "Loss at 55: 0.612\n",
      "Loss at 56: 0.611\n",
      "Loss at 57: 0.610\n",
      "Loss at 58: 0.609\n",
      "Loss at 59: 0.608\n",
      "Loss at 60: 0.608\n",
      "Loss at 61: 0.607\n",
      "Loss at 62: 0.606\n",
      "Loss at 63: 0.605\n",
      "Loss at 64: 0.605\n",
      "Loss at 65: 0.604\n",
      "Loss at 66: 0.603\n",
      "Loss at 67: 0.603\n",
      "Loss at 68: 0.602\n",
      "Loss at 69: 0.601\n",
      "Loss at 70: 0.601\n",
      "Loss at 71: 0.600\n",
      "Loss at 72: 0.600\n",
      "Loss at 73: 0.599\n",
      "Loss at 74: 0.599\n",
      "Loss at 75: 0.598\n",
      "Loss at 76: 0.598\n",
      "Loss at 77: 0.597\n",
      "Loss at 78: 0.597\n",
      "Loss at 79: 0.596\n",
      "Loss at 80: 0.596\n",
      "Loss at 81: 0.595\n",
      "Loss at 82: 0.595\n",
      "Loss at 83: 0.595\n",
      "Loss at 84: 0.594\n",
      "Loss at 85: 0.594\n",
      "Loss at 86: 0.594\n",
      "Loss at 87: 0.593\n",
      "Loss at 88: 0.593\n",
      "Loss at 89: 0.593\n",
      "Loss at 90: 0.592\n",
      "Loss at 91: 0.592\n",
      "Loss at 92: 0.592\n",
      "Loss at 93: 0.591\n",
      "Loss at 94: 0.591\n",
      "Loss at 95: 0.591\n",
      "Loss at 96: 0.590\n",
      "Loss at 97: 0.590\n",
      "Loss at 98: 0.590\n",
      "Loss at 99: 0.590\n"
     ]
    }
   ],
   "source": [
    "# Instantiate the `MLP` with the following structure:\n",
    "#     Linear with 50 units --> ReLU --> Linear with 50 units --> ReLU --> Linear with 3 units --> Sigmoid --> Softmax\n",
    "# Use GradientDescent as the optimizer, set the learning rate to 0.001, and use CELoss as the loss function.\n",
    "#############################\n",
    "# Your code goes here (4 points)\n",
    "np.random.seed(42)\n",
    "layers = [\n",
    "            Linear(x_train.shape[1],50),\n",
    "            RelU(),\n",
    "            Linear(50,50),\n",
    "            RelU(),\n",
    "            Linear(50,3),\n",
    "            Sigmoid(),\n",
    "            SoftMaxLayer()]\n",
    "\n",
    "nn = MLP(layers, CELoss(), GradientDescent(0.1))\n",
    "#############################\n",
    "\n",
    "epochs = 100\n",
    "\n",
    "# Train the network using only `x_train` and `y_train` (no validation)\n",
    "train(nn, epochs, x_train, y_train)"
   ]
  },
  {
   "cell_type": "markdown",
   "metadata": {
    "id": "uJec2xRJmY37"
   },
   "source": [
    "Let's plot the loss value for each iteration"
   ]
  },
  {
   "cell_type": "code",
   "execution_count": 19,
   "metadata": {
    "id": "ymaQNn70cdnZ"
   },
   "outputs": [
    {
     "data": {
      "text/plain": [
       "Text(0, 0.5, 'Loss')"
      ]
     },
     "execution_count": 19,
     "metadata": {},
     "output_type": "execute_result"
    },
    {
     "data": {
      "image/png": "[encoded data removed]",
      "text/plain": [
       "<Figure size 640x480 with 1 Axes>"
      ]
     },
     "metadata": {},
     "output_type": "display_data"
    }
   ],
   "source": [
    "plt.plot(nn.losses)\n",
    "plt.title(\"Training loss\")\n",
    "plt.xlabel(\"Iteration\")\n",
    "plt.ylabel(\"Loss\")"
   ]
  },
  {
   "cell_type": "markdown",
   "metadata": {
    "id": "dz3yqRa1cdna"
   },
   "source": [
    "**Let's also check our model's performance using the `accuracy` metric on the `testing` dataset**"
   ]
  },
  {
   "cell_type": "code",
   "execution_count": 20,
   "metadata": {
    "id": "TRqwXho7cdnd"
   },
   "outputs": [
    {
     "name": "stdout",
     "output_type": "stream",
     "text": [
      "0.9754869039623909\n"
     ]
    }
   ],
   "source": [
    "# Compute the accuracy on the testing set\n",
    "#############################\n",
    "# Your code goes here (7 points)\n",
    "y_test_pred = nn.forward(x_test).argmax(axis=1)\n",
    "acc = np.count_nonzero(y_test_pred == y_test)/len(y_test)\n",
    "#############################\n",
    "\n",
    "print(acc)"
   ]
  }
 ],
 "metadata": {
  "colab": {
   "provenance": []
  },
  "gpuClass": "standard",
  "kernelspec": {
   "display_name": "Python 3",
   "language": "python",
   "name": "python3"
  },
  "language_info": {
   "codemirror_mode": {
    "name": "ipython",
    "version": 3
   },
   "file_extension": ".py",
   "mimetype": "text/x-python",
   "name": "python",
   "nbconvert_exporter": "python",
   "pygments_lexer": "ipython3",
   "version": "3.10.0"
  }
 },
 "nbformat": 4,
 "nbformat_minor": 1
}
