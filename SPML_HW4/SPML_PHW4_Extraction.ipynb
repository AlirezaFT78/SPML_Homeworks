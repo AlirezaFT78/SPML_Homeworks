{
  "cells": [
    {
      "cell_type": "markdown",
      "metadata": {
        "id": "axViOHHuSBe5"
      },
      "source": [
        "# SPML HW4: Model Extraction\n",
        "\n",
        "In this notebook you'll explore model extraction."
      ]
    },
    {
      "cell_type": "code",
      "execution_count": null,
      "metadata": {
        "id": "s_gL6lXEoTSN"
      },
      "outputs": [],
      "source": [
        "######### Make sure to put your info #########\n",
        "name = 'Alireza Farajtabrizi'\n",
        "std_id = '403206554'\n",
        "##############################################"
      ]
    },
    {
      "cell_type": "code",
      "execution_count": null,
      "metadata": {
        "cellView": "form",
        "colab": {
          "base_uri": "https://localhost:8080/"
        },
        "execution": {
          "iopub.execute_input": "2024-12-01T17:43:04.586282Z",
          "iopub.status.busy": "2024-12-01T17:43:04.585923Z",
          "iopub.status.idle": "2024-12-01T17:43:04.591420Z",
          "shell.execute_reply": "2024-12-01T17:43:04.590399Z",
          "shell.execute_reply.started": "2024-12-01T17:43:04.586255Z"
        },
        "id": "CYQYyHliSpeZ",
        "outputId": "83503291-5db6-40fe-9056-69f996583cca",
        "trusted": true
      },
      "outputs": [
        {
          "data": {
            "text/plain": [
              "device(type='cuda')"
            ]
          },
          "execution_count": 2,
          "metadata": {},
          "output_type": "execute_result"
        }
      ],
      "source": [
        "import tqdm\n",
        "import torch\n",
        "import torch.nn as nn\n",
        "import torch.optim as optim\n",
        "import torch.nn.functional as F\n",
        "from torch.utils.data import DataLoader, ConcatDataset\n",
        "\n",
        "from tqdm import trange\n",
        "import matplotlib.pyplot as plt\n",
        "\n",
        "import torchvision\n",
        "from torchvision import transforms, datasets, models\n",
        "\n",
        "torch.manual_seed(42)\n",
        "torch.cuda.manual_seed(42)\n",
        "torch.backends.cudnn.deterministic = True\n",
        "torch.backends.cudnn.benchmark = False\n",
        "\n",
        "# Define device\n",
        "device = torch.device('cuda' if torch.cuda.is_available() else 'cpu')\n",
        "device"
      ]
    },
    {
      "cell_type": "markdown",
      "metadata": {
        "id": "sOMYvVnVoFfR"
      },
      "source": [
        "# Loading CIFAR100 (5 points)"
      ]
    },
    {
      "cell_type": "markdown",
      "metadata": {
        "id": "kc6jsbe0oFfR"
      },
      "source": [
        "Load the `CIFAR100` dataset. Make sure you resize the images to be `224x224` (same as the input size of resnet)."
      ]
    },
    {
      "cell_type": "code",
      "execution_count": null,
      "metadata": {
        "colab": {
          "base_uri": "https://localhost:8080/"
        },
        "execution": {
          "iopub.execute_input": "2024-12-01T17:57:01.485755Z",
          "iopub.status.busy": "2024-12-01T17:57:01.485413Z",
          "iopub.status.idle": "2024-12-01T17:57:03.293488Z",
          "shell.execute_reply": "2024-12-01T17:57:03.292497Z",
          "shell.execute_reply.started": "2024-12-01T17:57:01.485723Z"
        },
        "id": "wsvz54rDoFfS",
        "outputId": "8132450c-7fdf-4a6a-9acd-5cc7d6e06391",
        "trusted": true
      },
      "outputs": [
        {
          "name": "stdout",
          "output_type": "stream",
          "text": [
            "Files already downloaded and verified\n",
            "Files already downloaded and verified\n"
          ]
        }
      ],
      "source": [
        "# TODO: Load CIFAR-100 dataset\n",
        "transform = transforms.Compose([\n",
        "    transforms.Resize((224, 224)),\n",
        "    transforms.ToTensor(),])\n",
        "\n",
        "# Load the CIFAR-100 dataset\n",
        "cifar100_trainset = torchvision.datasets.CIFAR100(root='./data', train=True, download=True, transform=transform)\n",
        "cifar100_testset = torchvision.datasets.CIFAR100(root='./data', train=False, download=True, transform=transform)\n",
        "\n",
        "cifar100_trainloader = torch.utils.data.DataLoader(cifar100_trainset, batch_size=128, shuffle=True, num_workers=2)\n",
        "cifar100_testloader = torch.utils.data.DataLoader(cifar100_testset, batch_size=128, shuffle=False, num_workers=2)"
      ]
    },
    {
      "cell_type": "markdown",
      "metadata": {
        "id": "CYZSlCYuoFfS"
      },
      "source": [
        "# Pre-trained ResNet34 (10 points)"
      ]
    },
    {
      "cell_type": "markdown",
      "metadata": {
        "id": "C6R__T1woFfS"
      },
      "source": [
        "Load a pre-trained ResNet34 and train it on the `CIFAR100` dataset."
      ]
    },
    {
      "cell_type": "code",
      "execution_count": null,
      "metadata": {
        "cellView": "form",
        "execution": {
          "iopub.execute_input": "2024-12-01T17:44:04.202081Z",
          "iopub.status.busy": "2024-12-01T17:44:04.201373Z",
          "iopub.status.idle": "2024-12-01T17:44:04.646609Z",
          "shell.execute_reply": "2024-12-01T17:44:04.645680Z",
          "shell.execute_reply.started": "2024-12-01T17:44:04.202043Z"
        },
        "id": "4-ORDaFPSpXz",
        "trusted": true
      },
      "outputs": [],
      "source": [
        "# TODO: Load pretrained ResNet-34 model\n",
        "resnet34_victim = models.resnet34(weights='IMAGENET1K_V1')\n",
        "num_ftrs = resnet34_victim.fc.in_features\n",
        "resnet34_victim.fc = nn.Linear(num_ftrs, 100)\n",
        "resnet34_victim = resnet34_victim.to(device)"
      ]
    },
    {
      "cell_type": "code",
      "execution_count": null,
      "metadata": {
        "colab": {
          "base_uri": "https://localhost:8080/"
        },
        "execution": {
          "iopub.execute_input": "2024-12-01T17:44:43.213123Z",
          "iopub.status.busy": "2024-12-01T17:44:43.212154Z",
          "iopub.status.idle": "2024-12-01T17:51:46.820232Z",
          "shell.execute_reply": "2024-12-01T17:51:46.819241Z",
          "shell.execute_reply.started": "2024-12-01T17:44:43.213083Z"
        },
        "id": "LQh_yc1koFfT",
        "outputId": "f331968c-b6e6-4922-a075-9c71cadd820e",
        "trusted": true
      },
      "outputs": [
        {
          "name": "stderr",
          "output_type": "stream",
          "text": [
            " 10%|█         | 1/10 [04:13<37:58, 253.15s/it]"
          ]
        },
        {
          "name": "stdout",
          "output_type": "stream",
          "text": [
            "Epoch 1/10, Loss: 1.6262, Accuracy: 53.8840\n"
          ]
        },
        {
          "name": "stderr",
          "output_type": "stream",
          "text": [
            "\r 20%|██        | 2/10 [08:25<33:40, 252.54s/it]"
          ]
        },
        {
          "name": "stdout",
          "output_type": "stream",
          "text": [
            "Epoch 2/10, Loss: 1.0687, Accuracy: 68.1480\n"
          ]
        },
        {
          "name": "stderr",
          "output_type": "stream",
          "text": [
            "\r 30%|███       | 3/10 [12:37<29:26, 252.31s/it]"
          ]
        },
        {
          "name": "stdout",
          "output_type": "stream",
          "text": [
            "Epoch 3/10, Loss: 0.7699, Accuracy: 76.1560\n"
          ]
        },
        {
          "name": "stderr",
          "output_type": "stream",
          "text": [
            "\r 40%|████      | 4/10 [16:49<25:13, 252.20s/it]"
          ]
        },
        {
          "name": "stdout",
          "output_type": "stream",
          "text": [
            "Epoch 4/10, Loss: 0.5553, Accuracy: 82.4080\n"
          ]
        },
        {
          "name": "stderr",
          "output_type": "stream",
          "text": [
            "\r 50%|█████     | 5/10 [21:01<21:00, 252.06s/it]"
          ]
        },
        {
          "name": "stdout",
          "output_type": "stream",
          "text": [
            "Epoch 5/10, Loss: 0.3986, Accuracy: 86.9260\n"
          ]
        },
        {
          "name": "stderr",
          "output_type": "stream",
          "text": [
            "\r 60%|██████    | 6/10 [25:13<16:48, 252.23s/it]"
          ]
        },
        {
          "name": "stdout",
          "output_type": "stream",
          "text": [
            "Epoch 6/10, Loss: 0.2887, Accuracy: 90.6120\n"
          ]
        },
        {
          "name": "stderr",
          "output_type": "stream",
          "text": [
            "\r 70%|███████   | 7/10 [29:26<12:36, 252.25s/it]"
          ]
        },
        {
          "name": "stdout",
          "output_type": "stream",
          "text": [
            "Epoch 7/10, Loss: 0.2158, Accuracy: 93.0020\n"
          ]
        },
        {
          "name": "stderr",
          "output_type": "stream",
          "text": [
            "\r 80%|████████  | 8/10 [33:38<08:24, 252.20s/it]"
          ]
        },
        {
          "name": "stdout",
          "output_type": "stream",
          "text": [
            "Epoch 8/10, Loss: 0.2026, Accuracy: 93.3640\n"
          ]
        },
        {
          "name": "stderr",
          "output_type": "stream",
          "text": [
            "\r 90%|█████████ | 9/10 [37:50<04:12, 252.23s/it]"
          ]
        },
        {
          "name": "stdout",
          "output_type": "stream",
          "text": [
            "Epoch 9/10, Loss: 0.1399, Accuracy: 95.4900\n"
          ]
        },
        {
          "name": "stderr",
          "output_type": "stream",
          "text": [
            "100%|██████████| 10/10 [42:02<00:00, 252.21s/it]"
          ]
        },
        {
          "name": "stdout",
          "output_type": "stream",
          "text": [
            "Epoch 10/10, Loss: 0.1456, Accuracy: 95.1900\n"
          ]
        },
        {
          "name": "stderr",
          "output_type": "stream",
          "text": [
            "\n"
          ]
        }
      ],
      "source": [
        "# TDOO: Train the model on CIFAR100\n",
        "n_epochs = 10\n",
        "learning_rate = 1e-3\n",
        "\n",
        "# Set the model to training mode\n",
        "resnet34_victim.train()\n",
        "\n",
        "# Define loss function and optimizer\n",
        "criterion = nn.CrossEntropyLoss()\n",
        "optimizer = optim.Adam(resnet34_victim.parameters(), lr=learning_rate)\n",
        "\n",
        "# Train the model\n",
        "for epoch in trange(n_epochs):\n",
        "    resnet34_victim.train()  # Set the model to training mode\n",
        "    running_loss = 0.0\n",
        "    correct = 0\n",
        "    total = 0\n",
        "\n",
        "    for inputs, targets in cifar100_trainloader:\n",
        "        inputs, targets = inputs.to(device), targets.to(device)\n",
        "\n",
        "        # Zero the gradients\n",
        "        optimizer.zero_grad()\n",
        "\n",
        "        # Forward pass\n",
        "        outputs = resnet34_victim(inputs)\n",
        "        loss = criterion(outputs, targets)\n",
        "\n",
        "        # Backward pass and optimization\n",
        "        loss.backward()\n",
        "        optimizer.step()\n",
        "\n",
        "        # Accumulate loss\n",
        "        running_loss += loss.item()\n",
        "\n",
        "        # Compute accuracy\n",
        "        predicted = outputs.argmax(dim = 1)  # Get the class with the highest score\n",
        "        total += targets.size(0)\n",
        "        correct += (predicted == targets).sum().item()\n",
        "\n",
        "    # Calculate average loss and accuracy for the epoch\n",
        "    epoch_loss = running_loss / len(cifar100_trainloader)\n",
        "    epoch_accuracy = 100 * correct / total\n",
        "    print(f\"Epoch {epoch+1}/{n_epochs}, Loss: {epoch_loss:.4f}, Accuracy: {epoch_accuracy:.4f}\")"
      ]
    },
    {
      "cell_type": "code",
      "execution_count": null,
      "metadata": {
        "colab": {
          "base_uri": "https://localhost:8080/"
        },
        "id": "YyvQBgFIjA_v",
        "outputId": "6aa34595-a60f-4ed0-819a-023f0fb020b7"
      },
      "outputs": [
        {
          "name": "stdout",
          "output_type": "stream",
          "text": [
            "Accuracy of the model on the test set: 68.65%\n"
          ]
        }
      ],
      "source": [
        "# Evaluate the model on the test set\n",
        "def test_model(model, loader):\n",
        "    model.to(device)\n",
        "    model.eval()  # Set the model to evaluation mode\n",
        "\n",
        "    correct = 0\n",
        "    total = 0\n",
        "\n",
        "    with torch.no_grad():  # Disable gradient computation for testing\n",
        "        for inputs, targets in loader:\n",
        "            inputs, targets = inputs.to(device), targets.to(device)\n",
        "\n",
        "            # Forward pass\n",
        "            outputs = model(inputs)\n",
        "\n",
        "            # Get predictions\n",
        "            predicted = outputs.argmax(dim = 1) # Get the class with the highest score\n",
        "\n",
        "            # Update total and correct counts\n",
        "            total += targets.size(0)\n",
        "            correct += (predicted == targets).sum().item()\n",
        "\n",
        "    accuracy = 100 * correct / total\n",
        "    return accuracy\n",
        "\n",
        "print(f'Accuracy of the model on the test set: {test_model(resnet34_victim, cifar100_testloader)}%')"
      ]
    },
    {
      "cell_type": "markdown",
      "metadata": {
        "id": "18to70m6okvE"
      },
      "source": [
        "You might want to save this model to avoid retraining."
      ]
    },
    {
      "cell_type": "code",
      "execution_count": null,
      "metadata": {
        "id": "QVx2TZBjVCSC"
      },
      "outputs": [],
      "source": [
        "torch.save(resnet34_victim.state_dict(), 'resnet34_cifar100trainset.pth')"
      ]
    },
    {
      "cell_type": "markdown",
      "metadata": {
        "id": "j0ejNyFSoFfT"
      },
      "source": [
        "# Model Extraction (20 points)"
      ]
    },
    {
      "cell_type": "markdown",
      "metadata": {
        "id": "kOIjKOM4oFfT"
      },
      "source": [
        "Here we use knowledge distillation to extract models. If you are confused after the instructions take a look at the next section to understand what we are trying to do. The general steps in Knowledge Distillation are as follows:\n",
        "\n",
        "1. Set the victim (teacher) to evaluation mode and the attacker (student) to training mode.\n",
        "2. Use the victim to find the logits for each batch of inputs.\n",
        "3. Predict the attackers output for the same batch of inputs.\n",
        "4. Define and reduce the loss function over the difference between logits from the victim and attacker (use KL-Divergence, ...)\n",
        "5. Repeat steps 2-4 for the number of epochs.\n",
        "\n",
        "Feel free to check out [Distilling the Knowledge in a Neural Network](https://arxiv.org/abs/1503.02531) to get a better sense of the process."
      ]
    },
    {
      "cell_type": "code",
      "execution_count": null,
      "metadata": {
        "execution": {
          "iopub.execute_input": "2024-12-01T18:25:03.452703Z",
          "iopub.status.busy": "2024-12-01T18:25:03.452313Z",
          "iopub.status.idle": "2024-12-01T18:25:03.459757Z",
          "shell.execute_reply": "2024-12-01T18:25:03.458812Z",
          "shell.execute_reply.started": "2024-12-01T18:25:03.452666Z"
        },
        "id": "HNPHv7IYoFfT",
        "trusted": true
      },
      "outputs": [],
      "source": [
        "def knowledge_distillation(victim_model, attacker_model, loader, optimizer, epochs, T):\n",
        "    attacker_model.train()\n",
        "    victim_model.eval()\n",
        "    for epoch in trange(n_epochs):\n",
        "\n",
        "        running_loss = 0.0\n",
        "        correct_preds = 0\n",
        "        total_preds = 0\n",
        "\n",
        "        for inputs, _ in loader:\n",
        "            inputs = inputs.to(device)\n",
        "            optimizer.zero_grad()\n",
        "\n",
        "            with torch.no_grad():\n",
        "                teacher_outputs = victim_model(inputs) / T\n",
        "                teacher_probs = F.softmax(teacher_outputs, dim=1)\n",
        "                labels = teacher_probs.argmax(dim = 1)\n",
        "\n",
        "            student_outputs = attacker_model(inputs) / T\n",
        "            student_log_probs = F.log_softmax(student_outputs, dim=1)\n",
        "\n",
        "            distillation_loss = F.kl_div(student_log_probs, teacher_probs, reduction='batchmean') * (T**2)\n",
        "            #classification_loss = F.cross_entropy(student_outputs, labels)\n",
        "            #total_loss = 0.9 * distillation_loss + 0.1 * classification_loss\n",
        "\n",
        "            distillation_loss.backward()\n",
        "            optimizer.step()\n",
        "\n",
        "            running_loss += distillation_loss.item()\n",
        "            predictions = student_outputs.argmax(dim = 1)\n",
        "            correct_preds += (predictions == labels).sum().item()\n",
        "            total_preds += labels.size(0)\n",
        "\n",
        "        epoch_loss = running_loss / len(loader)\n",
        "        epoch_accuracy = correct_preds / total_preds * 100\n",
        "        print(f\"Epoch {epoch+1}/{n_epochs}, Loss: {epoch_loss:.4f}, Accuracy: {epoch_accuracy:.4f}\")"
      ]
    },
    {
      "cell_type": "markdown",
      "metadata": {
        "id": "Ve3e6-3goFfU"
      },
      "source": [
        "Can you explain how we should set the temperature? Why is this choice appropriate for model extraction?\n",
        "\n",
        "`your response:`\n",
        "##### some number greater than 1 but not too big I chose 10.\n",
        "##### It impact the dominance of logit vector and it makes it more smooth. Knowledge distilliation is pointless without soft labels and higher T makes labels softer."
      ]
    },
    {
      "cell_type": "markdown",
      "metadata": {
        "id": "vmNbBJtcoFfU"
      },
      "source": [
        "# Attack Transferability (20 points)"
      ]
    },
    {
      "cell_type": "markdown",
      "metadata": {
        "id": "ZsFAf0V4oFfU"
      },
      "source": [
        "Implement attacks such as FGSM or PGD, you can use code from previous homeworks or readily available libraries."
      ]
    },
    {
      "cell_type": "code",
      "execution_count": null,
      "metadata": {
        "id": "sw4JqKd5n_3B"
      },
      "outputs": [],
      "source": [
        "!pip install torchattacks"
      ]
    },
    {
      "cell_type": "code",
      "execution_count": null,
      "metadata": {
        "id": "F7nVpx-xoFfU",
        "trusted": true
      },
      "outputs": [],
      "source": [
        "# TODO: Load or implement attacks\n",
        "from torchattacks import PGD"
      ]
    },
    {
      "cell_type": "markdown",
      "metadata": {
        "id": "GxYW_sdvoFfU"
      },
      "source": [
        "Fill in the following function to attack a model and report the accuracy of the victim on the adversarial examples generated using the available model."
      ]
    },
    {
      "cell_type": "code",
      "execution_count": null,
      "metadata": {
        "id": "dk01WXWHoFfU",
        "trusted": true
      },
      "outputs": [],
      "source": [
        "def transferability_attack(model, victim, loader, attack):\n",
        "    model.eval()\n",
        "    victim.eval()\n",
        "\n",
        "    correct = 0\n",
        "    total = 0\n",
        "\n",
        "    for inputs, labels in tqdm.tqdm(loader):\n",
        "        inputs, labels = inputs.to(device), labels.to(device)\n",
        "        adv_inputs = attack(inputs, labels)\n",
        "\n",
        "        # Evaluate the victim model on adversarial examples\n",
        "        with torch.no_grad():\n",
        "            outputs = victim(adv_inputs)\n",
        "            predicted = outputs.argmax(dim = 1)\n",
        "            correct += (predicted == labels).sum().item()\n",
        "            total += labels.size(0)\n",
        "\n",
        "    accuracy = 100 * correct / total\n",
        "    return accuracy"
      ]
    },
    {
      "cell_type": "markdown",
      "metadata": {
        "id": "seJyURproFfU"
      },
      "source": [
        "# CIFAR10 (35 points)"
      ]
    },
    {
      "cell_type": "markdown",
      "metadata": {
        "id": "XZAp7PHEoFfU"
      },
      "source": [
        "## Loading and Exploration (5 points)"
      ]
    },
    {
      "cell_type": "markdown",
      "metadata": {
        "id": "EcEKy-3CoFfU"
      },
      "source": [
        "First load the `CIFAR10` dataset."
      ]
    },
    {
      "cell_type": "code",
      "execution_count": 31,
      "metadata": {
        "colab": {
          "base_uri": "https://localhost:8080/"
        },
        "execution": {
          "iopub.execute_input": "2024-12-01T18:27:38.270610Z",
          "iopub.status.busy": "2024-12-01T18:27:38.270290Z",
          "iopub.status.idle": "2024-12-01T18:27:39.858190Z",
          "shell.execute_reply": "2024-12-01T18:27:39.857440Z",
          "shell.execute_reply.started": "2024-12-01T18:27:38.270584Z"
        },
        "id": "P8RivTCsoFfV",
        "outputId": "46e0776b-fb73-4cb4-a7db-298ec75ea3ef",
        "trusted": true
      },
      "outputs": [
        {
          "name": "stdout",
          "output_type": "stream",
          "text": [
            "Files already downloaded and verified\n",
            "Files already downloaded and verified\n"
          ]
        }
      ],
      "source": [
        "# TODO: Load CIFAR-10 dataset\n",
        "transform = transforms.Compose([\n",
        "    transforms.Resize((224, 224)),\n",
        "    transforms.ToTensor(),])\n",
        "\n",
        "cifar10_trainset = datasets.CIFAR10(root='./data', train=True, download=True, transform=transform)\n",
        "cifar10_testset = datasets.CIFAR10(root='./data', train=False, download=True, transform=transform)\n",
        "\n",
        "cifar10_trainloader = torch.utils.data.DataLoader(cifar10_trainset, batch_size=128, shuffle=True, num_workers=2)\n",
        "cifar10_testloader = torch.utils.data.DataLoader(cifar10_testset, batch_size=128, shuffle=False, num_workers=2)"
      ]
    },
    {
      "cell_type": "markdown",
      "metadata": {
        "id": "81VUh9fcoFfV"
      },
      "source": [
        "Which classes from the `CIFAR10` dataset are present in `CIFAR100` classes?"
      ]
    },
    {
      "cell_type": "code",
      "execution_count": 33,
      "metadata": {
        "colab": {
          "base_uri": "https://localhost:8080/"
        },
        "execution": {
          "iopub.execute_input": "2024-12-01T18:02:06.776030Z",
          "iopub.status.busy": "2024-12-01T18:02:06.775416Z",
          "iopub.status.idle": "2024-12-01T18:02:06.780728Z",
          "shell.execute_reply": "2024-12-01T18:02:06.779835Z",
          "shell.execute_reply.started": "2024-12-01T18:02:06.775993Z"
        },
        "id": "-TqKW1_LoFfV",
        "outputId": "118f3b77-54d0-4bd4-fbf6-c869570e7fee",
        "trusted": true
      },
      "outputs": [
        {
          "name": "stdout",
          "output_type": "stream",
          "text": [
            "['apple', 'aquarium_fish', 'baby', 'bear', 'beaver', 'bed', 'bee', 'beetle', 'bicycle', 'bottle', 'bowl', 'boy', 'bridge', 'bus', 'butterfly', 'camel', 'can', 'castle', 'caterpillar', 'cattle', 'chair', 'chimpanzee', 'clock', 'cloud', 'cockroach', 'couch', 'crab', 'crocodile', 'cup', 'dinosaur', 'dolphin', 'elephant', 'flatfish', 'forest', 'fox', 'girl', 'hamster', 'house', 'kangaroo', 'keyboard', 'lamp', 'lawn_mower', 'leopard', 'lion', 'lizard', 'lobster', 'man', 'maple_tree', 'motorcycle', 'mountain', 'mouse', 'mushroom', 'oak_tree', 'orange', 'orchid', 'otter', 'palm_tree', 'pear', 'pickup_truck', 'pine_tree', 'plain', 'plate', 'poppy', 'porcupine', 'possum', 'rabbit', 'raccoon', 'ray', 'road', 'rocket', 'rose', 'sea', 'seal', 'shark', 'shrew', 'skunk', 'skyscraper', 'snail', 'snake', 'spider', 'squirrel', 'streetcar', 'sunflower', 'sweet_pepper', 'table', 'tank', 'telephone', 'television', 'tiger', 'tractor', 'train', 'trout', 'tulip', 'turtle', 'wardrobe', 'whale', 'willow_tree', 'wolf', 'woman', 'worm']\n",
            "['airplane', 'automobile', 'bird', 'cat', 'deer', 'dog', 'frog', 'horse', 'ship', 'truck']\n",
            "set()\n"
          ]
        }
      ],
      "source": [
        "# TODO: Check if classes are present in both datasets\n",
        "print(cifar100_trainset.classes)\n",
        "print(cifar10_trainset.classes)\n",
        "print(set(cifar100_trainset.classes).intersection(set(cifar10_trainset.classes)))"
      ]
    },
    {
      "cell_type": "markdown",
      "metadata": {
        "id": "QLRRJK0DoFfV"
      },
      "source": [
        "Now use the test dataset from `CIFAR10` to extract the model."
      ]
    },
    {
      "cell_type": "markdown",
      "metadata": {
        "id": "obfTulTSoFfV"
      },
      "source": [
        "## Pre-trained ResNet18 (10 points)"
      ]
    },
    {
      "cell_type": "markdown",
      "metadata": {
        "id": "0ZNW4byeoFfV"
      },
      "source": [
        "Use the pre-trained ResNet18 dataset and extract the model using knowledge distillation."
      ]
    },
    {
      "cell_type": "code",
      "execution_count": 20,
      "metadata": {
        "colab": {
          "base_uri": "https://localhost:8080/"
        },
        "execution": {
          "iopub.execute_input": "2024-12-01T18:27:52.991071Z",
          "iopub.status.busy": "2024-12-01T18:27:52.990402Z",
          "iopub.status.idle": "2024-12-01T18:39:28.844316Z",
          "shell.execute_reply": "2024-12-01T18:39:28.843145Z",
          "shell.execute_reply.started": "2024-12-01T18:27:52.991035Z"
        },
        "id": "qmlvi009oFfV",
        "outputId": "515ac037-4c4c-4f88-c4cd-18dfb1b020e5",
        "trusted": true
      },
      "outputs": [
        {
          "name": "stderr",
          "output_type": "stream",
          "text": [
            " 10%|█         | 1/10 [00:48<07:16, 48.47s/it]"
          ]
        },
        {
          "name": "stdout",
          "output_type": "stream",
          "text": [
            "Epoch 1/10, Loss: 4.7813, Accuracy: 28.4400\n"
          ]
        },
        {
          "name": "stderr",
          "output_type": "stream",
          "text": [
            "\r 20%|██        | 2/10 [01:35<06:20, 47.55s/it]"
          ]
        },
        {
          "name": "stdout",
          "output_type": "stream",
          "text": [
            "Epoch 2/10, Loss: 2.9988, Accuracy: 40.3600\n"
          ]
        },
        {
          "name": "stderr",
          "output_type": "stream",
          "text": [
            "\r 30%|███       | 3/10 [02:22<05:31, 47.38s/it]"
          ]
        },
        {
          "name": "stdout",
          "output_type": "stream",
          "text": [
            "Epoch 3/10, Loss: 2.2227, Accuracy: 49.0800\n"
          ]
        },
        {
          "name": "stderr",
          "output_type": "stream",
          "text": [
            "\r 40%|████      | 4/10 [03:10<04:44, 47.47s/it]"
          ]
        },
        {
          "name": "stdout",
          "output_type": "stream",
          "text": [
            "Epoch 4/10, Loss: 1.8623, Accuracy: 54.7000\n"
          ]
        },
        {
          "name": "stderr",
          "output_type": "stream",
          "text": [
            "\r 50%|█████     | 5/10 [03:57<03:56, 47.39s/it]"
          ]
        },
        {
          "name": "stdout",
          "output_type": "stream",
          "text": [
            "Epoch 5/10, Loss: 1.6814, Accuracy: 57.9800\n"
          ]
        },
        {
          "name": "stderr",
          "output_type": "stream",
          "text": [
            "\r 60%|██████    | 6/10 [04:44<03:09, 47.44s/it]"
          ]
        },
        {
          "name": "stdout",
          "output_type": "stream",
          "text": [
            "Epoch 6/10, Loss: 1.4554, Accuracy: 61.1700\n"
          ]
        },
        {
          "name": "stderr",
          "output_type": "stream",
          "text": [
            "\r 70%|███████   | 7/10 [05:32<02:21, 47.32s/it]"
          ]
        },
        {
          "name": "stdout",
          "output_type": "stream",
          "text": [
            "Epoch 7/10, Loss: 1.2360, Accuracy: 64.2100\n"
          ]
        },
        {
          "name": "stderr",
          "output_type": "stream",
          "text": [
            "\r 80%|████████  | 8/10 [06:19<01:34, 47.29s/it]"
          ]
        },
        {
          "name": "stdout",
          "output_type": "stream",
          "text": [
            "Epoch 8/10, Loss: 1.0937, Accuracy: 68.1700\n"
          ]
        },
        {
          "name": "stderr",
          "output_type": "stream",
          "text": [
            "\r 90%|█████████ | 9/10 [07:06<00:47, 47.29s/it]"
          ]
        },
        {
          "name": "stdout",
          "output_type": "stream",
          "text": [
            "Epoch 9/10, Loss: 1.0006, Accuracy: 69.3600\n"
          ]
        },
        {
          "name": "stderr",
          "output_type": "stream",
          "text": [
            "100%|██████████| 10/10 [07:53<00:00, 47.38s/it]"
          ]
        },
        {
          "name": "stdout",
          "output_type": "stream",
          "text": [
            "Epoch 10/10, Loss: 0.9112, Accuracy: 70.9400\n"
          ]
        },
        {
          "name": "stderr",
          "output_type": "stream",
          "text": [
            "\n"
          ]
        }
      ],
      "source": [
        "# TODO: Load pretrained ResNet-18 model\n",
        "resnet18_pretrained = models.resnet18(weights='IMAGENET1K_V1')\n",
        "num_ftrs = resnet18_pretrained.fc.in_features\n",
        "resnet18_pretrained.fc = nn.Linear(num_ftrs, 100)\n",
        "resnet18_pretrained = resnet18_pretrained.to(device)\n",
        "\n",
        "# TODO: Extract the model\n",
        "n_epochs = 10\n",
        "learning_rate = 1e-3\n",
        "temperature = 10\n",
        "\n",
        "optimizer = optim.Adam(resnet18_pretrained.parameters(), lr=learning_rate)\n",
        "knowledge_distillation(resnet34_victim, resnet18_pretrained, cifar10_testloader, optimizer, n_epochs, T=temperature)\n",
        "torch.save(resnet18_pretrained.state_dict(), 'resnet18_pretrained_cifar10_testset.pth')"
      ]
    },
    {
      "cell_type": "markdown",
      "metadata": {
        "id": "6lfsMRh7oFfV"
      },
      "source": [
        "What is the accuracy of the extracted model on the `CIFAR100` test set?"
      ]
    },
    {
      "cell_type": "code",
      "execution_count": 21,
      "metadata": {
        "colab": {
          "base_uri": "https://localhost:8080/"
        },
        "id": "iHMbP7B9oFfV",
        "outputId": "2303dc4e-8f67-4459-9fe4-45d0ded982f0",
        "trusted": true
      },
      "outputs": [
        {
          "name": "stdout",
          "output_type": "stream",
          "text": [
            "Accuracy of the model on the test set: 38.61%\n"
          ]
        }
      ],
      "source": [
        "# TODO: Report accuracy on CIFAR100\n",
        "clean_accuracy = test_model(resnet18_pretrained, cifar100_testloader)\n",
        "print(f'Accuracy of the model on the test set: {clean_accuracy}%')"
      ]
    },
    {
      "cell_type": "code",
      "execution_count": 22,
      "metadata": {
        "colab": {
          "base_uri": "https://localhost:8080/"
        },
        "id": "ID4dlzEYzNqg",
        "outputId": "3a4623ee-f454-460a-b4ec-3404c2dca30b"
      },
      "outputs": [
        {
          "name": "stderr",
          "output_type": "stream",
          "text": [
            "100%|██████████| 79/79 [03:53<00:00,  2.96s/it]"
          ]
        },
        {
          "name": "stdout",
          "output_type": "stream",
          "text": [
            "\n",
            "Accuracy of the model on Transfered Adversarial Examples from test set: 7.59%\n"
          ]
        },
        {
          "name": "stderr",
          "output_type": "stream",
          "text": [
            "\n"
          ]
        }
      ],
      "source": [
        "attack = PGD(resnet18_pretrained,eps=8/255, alpha=2/255, steps=10)\n",
        "adv_acurracy = transferability_attack(resnet18_pretrained, resnet34_victim, cifar100_testloader, attack)\n",
        "print(f'\\nAccuracy of the model on Transfered Adversarial Examples from test set: {adv_acurracy}%')"
      ]
    },
    {
      "cell_type": "markdown",
      "metadata": {
        "id": "xXvu0uamoFfV"
      },
      "source": [
        "## ResNet18 (10 points)"
      ]
    },
    {
      "cell_type": "markdown",
      "metadata": {
        "id": "yUFFATuQoFfV"
      },
      "source": [
        "Repeat the pervious steps but without pre-training."
      ]
    },
    {
      "cell_type": "code",
      "execution_count": 23,
      "metadata": {
        "colab": {
          "base_uri": "https://localhost:8080/"
        },
        "id": "HkDPZD4KoFfW",
        "outputId": "16a0e93e-dc3a-4682-e72a-551ef4b28ce5",
        "trusted": true
      },
      "outputs": [
        {
          "name": "stderr",
          "output_type": "stream",
          "text": [
            "  5%|▌         | 1/20 [00:47<14:56, 47.20s/it]"
          ]
        },
        {
          "name": "stdout",
          "output_type": "stream",
          "text": [
            "Epoch 1/20, Loss: 7.2948, Accuracy: 13.9800\n"
          ]
        },
        {
          "name": "stderr",
          "output_type": "stream",
          "text": [
            "\r 10%|█         | 2/20 [01:34<14:12, 47.35s/it]"
          ]
        },
        {
          "name": "stdout",
          "output_type": "stream",
          "text": [
            "Epoch 2/20, Loss: 6.2510, Accuracy: 18.1300\n"
          ]
        },
        {
          "name": "stderr",
          "output_type": "stream",
          "text": [
            "\r 15%|█▌        | 3/20 [02:22<13:24, 47.35s/it]"
          ]
        },
        {
          "name": "stdout",
          "output_type": "stream",
          "text": [
            "Epoch 3/20, Loss: 5.7152, Accuracy: 20.9400\n"
          ]
        },
        {
          "name": "stderr",
          "output_type": "stream",
          "text": [
            "\r 20%|██        | 4/20 [03:09<12:40, 47.54s/it]"
          ]
        },
        {
          "name": "stdout",
          "output_type": "stream",
          "text": [
            "Epoch 4/20, Loss: 5.2344, Accuracy: 23.8100\n"
          ]
        },
        {
          "name": "stderr",
          "output_type": "stream",
          "text": [
            "\r 25%|██▌       | 5/20 [03:57<11:52, 47.48s/it]"
          ]
        },
        {
          "name": "stdout",
          "output_type": "stream",
          "text": [
            "Epoch 5/20, Loss: 4.7680, Accuracy: 26.8200\n"
          ]
        },
        {
          "name": "stderr",
          "output_type": "stream",
          "text": [
            "\r 30%|███       | 6/20 [04:44<11:06, 47.58s/it]"
          ]
        },
        {
          "name": "stdout",
          "output_type": "stream",
          "text": [
            "Epoch 6/20, Loss: 4.3877, Accuracy: 29.4700\n"
          ]
        },
        {
          "name": "stderr",
          "output_type": "stream",
          "text": [
            "\r 35%|███▌      | 7/20 [05:32<10:17, 47.48s/it]"
          ]
        },
        {
          "name": "stdout",
          "output_type": "stream",
          "text": [
            "Epoch 7/20, Loss: 4.0533, Accuracy: 31.5500\n"
          ]
        },
        {
          "name": "stderr",
          "output_type": "stream",
          "text": [
            "\r 40%|████      | 8/20 [06:19<09:29, 47.49s/it]"
          ]
        },
        {
          "name": "stdout",
          "output_type": "stream",
          "text": [
            "Epoch 8/20, Loss: 3.7444, Accuracy: 34.2100\n"
          ]
        },
        {
          "name": "stderr",
          "output_type": "stream",
          "text": [
            "\r 45%|████▌     | 9/20 [07:06<08:40, 47.35s/it]"
          ]
        },
        {
          "name": "stdout",
          "output_type": "stream",
          "text": [
            "Epoch 9/20, Loss: 3.4517, Accuracy: 36.4500\n"
          ]
        },
        {
          "name": "stderr",
          "output_type": "stream",
          "text": [
            "\r 50%|█████     | 10/20 [07:54<07:53, 47.40s/it]"
          ]
        },
        {
          "name": "stdout",
          "output_type": "stream",
          "text": [
            "Epoch 10/20, Loss: 3.2352, Accuracy: 38.9300\n"
          ]
        },
        {
          "name": "stderr",
          "output_type": "stream",
          "text": [
            "\r 55%|█████▌    | 11/20 [08:41<07:06, 47.34s/it]"
          ]
        },
        {
          "name": "stdout",
          "output_type": "stream",
          "text": [
            "Epoch 11/20, Loss: 3.0201, Accuracy: 41.0500\n"
          ]
        },
        {
          "name": "stderr",
          "output_type": "stream",
          "text": [
            "\r 60%|██████    | 12/20 [09:29<06:19, 47.39s/it]"
          ]
        },
        {
          "name": "stdout",
          "output_type": "stream",
          "text": [
            "Epoch 12/20, Loss: 2.8307, Accuracy: 42.9500\n"
          ]
        },
        {
          "name": "stderr",
          "output_type": "stream",
          "text": [
            "\r 65%|██████▌   | 13/20 [10:16<05:31, 47.33s/it]"
          ]
        },
        {
          "name": "stdout",
          "output_type": "stream",
          "text": [
            "Epoch 13/20, Loss: 2.5818, Accuracy: 46.3000\n"
          ]
        },
        {
          "name": "stderr",
          "output_type": "stream",
          "text": [
            "\r 70%|███████   | 14/20 [11:03<04:44, 47.42s/it]"
          ]
        },
        {
          "name": "stdout",
          "output_type": "stream",
          "text": [
            "Epoch 14/20, Loss: 2.3828, Accuracy: 48.4800\n"
          ]
        },
        {
          "name": "stderr",
          "output_type": "stream",
          "text": [
            "\r 75%|███████▌  | 15/20 [11:51<03:57, 47.43s/it]"
          ]
        },
        {
          "name": "stdout",
          "output_type": "stream",
          "text": [
            "Epoch 15/20, Loss: 2.1513, Accuracy: 51.6000\n"
          ]
        },
        {
          "name": "stderr",
          "output_type": "stream",
          "text": [
            "\r 80%|████████  | 16/20 [12:38<03:09, 47.47s/it]"
          ]
        },
        {
          "name": "stdout",
          "output_type": "stream",
          "text": [
            "Epoch 16/20, Loss: 1.9241, Accuracy: 55.0500\n"
          ]
        },
        {
          "name": "stderr",
          "output_type": "stream",
          "text": [
            "\r 85%|████████▌ | 17/20 [13:26<02:22, 47.41s/it]"
          ]
        },
        {
          "name": "stdout",
          "output_type": "stream",
          "text": [
            "Epoch 17/20, Loss: 1.7832, Accuracy: 56.7300\n"
          ]
        },
        {
          "name": "stderr",
          "output_type": "stream",
          "text": [
            "\r 90%|█████████ | 18/20 [14:13<01:35, 47.50s/it]"
          ]
        },
        {
          "name": "stdout",
          "output_type": "stream",
          "text": [
            "Epoch 18/20, Loss: 1.6494, Accuracy: 58.9900\n"
          ]
        },
        {
          "name": "stderr",
          "output_type": "stream",
          "text": [
            "\r 95%|█████████▌| 19/20 [15:01<00:47, 47.46s/it]"
          ]
        },
        {
          "name": "stdout",
          "output_type": "stream",
          "text": [
            "Epoch 19/20, Loss: 1.5546, Accuracy: 60.7200\n"
          ]
        },
        {
          "name": "stderr",
          "output_type": "stream",
          "text": [
            "100%|██████████| 20/20 [15:49<00:00, 47.45s/it]"
          ]
        },
        {
          "name": "stdout",
          "output_type": "stream",
          "text": [
            "Epoch 20/20, Loss: 1.4699, Accuracy: 61.6900\n"
          ]
        },
        {
          "name": "stderr",
          "output_type": "stream",
          "text": [
            "\n"
          ]
        }
      ],
      "source": [
        "# TODO: Load ResNet-18 model\n",
        "resnet18_random = models.resnet18()\n",
        "num_ftrs = resnet18_random.fc.in_features\n",
        "resnet18_random.fc = nn.Linear(num_ftrs, 100)\n",
        "resnet18_random = resnet18_random.to(device)\n",
        "\n",
        "# TODO: Extract the model\n",
        "n_epochs = 20\n",
        "learning_rate = 1e-3\n",
        "temperature = 10\n",
        "\n",
        "optimizer = optim.Adam(resnet18_random.parameters(), lr=learning_rate)\n",
        "knowledge_distillation(resnet34_victim, resnet18_random, cifar10_testloader, optimizer, n_epochs, T=temperature)\n",
        "torch.save(resnet18_random.state_dict(), 'resnet18_random_cifar10_testset.pth')"
      ]
    },
    {
      "cell_type": "markdown",
      "metadata": {
        "id": "0rSa7e8noFfW"
      },
      "source": [
        "Measure the accuracy of the newly distillied attacker and compare your results from the previous section."
      ]
    },
    {
      "cell_type": "code",
      "execution_count": 32,
      "metadata": {
        "colab": {
          "base_uri": "https://localhost:8080/"
        },
        "execution": {
          "iopub.execute_input": "2024-12-01T18:40:03.692143Z",
          "iopub.status.busy": "2024-12-01T18:40:03.691437Z",
          "iopub.status.idle": "2024-12-01T18:40:13.198912Z",
          "shell.execute_reply": "2024-12-01T18:40:13.197876Z",
          "shell.execute_reply.started": "2024-12-01T18:40:03.692109Z"
        },
        "id": "X4ucpNatoFfW",
        "outputId": "609bd251-60f6-4e21-ba05-9608f5078dfa",
        "trusted": true
      },
      "outputs": [
        {
          "name": "stdout",
          "output_type": "stream",
          "text": [
            "Accuracy of the model on the test set: 18.14%\n"
          ]
        }
      ],
      "source": [
        "# TODO: Report accuracy on CIFAR100\n",
        "clean_accuracy = test_model(resnet18_random, cifar100_testloader)\n",
        "print(f'Accuracy of the model on the test set: {clean_accuracy}%')"
      ]
    },
    {
      "cell_type": "code",
      "execution_count": 24,
      "metadata": {
        "colab": {
          "base_uri": "https://localhost:8080/"
        },
        "id": "crlyV8Ls0cvy",
        "outputId": "266ef98b-a052-4b66-f901-5583e269d292"
      },
      "outputs": [
        {
          "name": "stderr",
          "output_type": "stream",
          "text": [
            "100%|██████████| 79/79 [03:55<00:00,  2.97s/it]"
          ]
        },
        {
          "name": "stdout",
          "output_type": "stream",
          "text": [
            "\n",
            "Accuracy of the model on Transfered Adversarial Examples from test set: 34.72%\n"
          ]
        },
        {
          "name": "stderr",
          "output_type": "stream",
          "text": [
            "\n"
          ]
        }
      ],
      "source": [
        "attack = PGD(resnet18_random, eps=8/255, alpha=2/255, steps=10)\n",
        "adv_acurracy = transferability_attack(resnet18_random, resnet34_victim, cifar100_testloader, attack)\n",
        "print(f'\\nAccuracy of the model on Transfered Adversarial Examples from test set: {adv_acurracy}%')"
      ]
    },
    {
      "cell_type": "markdown",
      "metadata": {
        "id": "wxDuIVnUoFfW"
      },
      "source": [
        "What are the effects of pre-training?\n",
        "\n",
        "`your response:`\n",
        "##### The pretraining effects the training of the extracted model by reducing the clean accuracy and therefore the fidelty of extracted model.\n",
        "##### It seems that same strating point (same dataset they were trained on) end up to better fidelty"
      ]
    },
    {
      "cell_type": "markdown",
      "metadata": {
        "id": "rxU4_TvpoFfW"
      },
      "source": [
        "## Full Dataset (10 points)"
      ]
    },
    {
      "cell_type": "markdown",
      "metadata": {
        "id": "7udEk0fQoFfW"
      },
      "source": [
        "Repeat your experiments using the pre-trained ResNet18 but this time use the entire CIFAR10 dataset."
      ]
    },
    {
      "cell_type": "code",
      "execution_count": 25,
      "metadata": {
        "colab": {
          "base_uri": "https://localhost:8080/"
        },
        "id": "QyT2o0_LoFfW",
        "outputId": "549aff9e-570e-4793-a283-fdadf4823222",
        "trusted": true
      },
      "outputs": [
        {
          "name": "stderr",
          "output_type": "stream",
          "text": [
            " 10%|█         | 1/10 [04:41<42:12, 281.35s/it]"
          ]
        },
        {
          "name": "stdout",
          "output_type": "stream",
          "text": [
            "Epoch 1/10, Loss: 2.9456, Accuracy: 42.0567\n"
          ]
        },
        {
          "name": "stderr",
          "output_type": "stream",
          "text": [
            "\r 20%|██        | 2/10 [09:23<37:33, 281.67s/it]"
          ]
        },
        {
          "name": "stdout",
          "output_type": "stream",
          "text": [
            "Epoch 2/10, Loss: 1.7162, Accuracy: 54.3450\n"
          ]
        },
        {
          "name": "stderr",
          "output_type": "stream",
          "text": [
            "\r 30%|███       | 3/10 [14:04<32:50, 281.46s/it]"
          ]
        },
        {
          "name": "stdout",
          "output_type": "stream",
          "text": [
            "Epoch 3/10, Loss: 1.2975, Accuracy: 60.5183\n"
          ]
        },
        {
          "name": "stderr",
          "output_type": "stream",
          "text": [
            "\r 40%|████      | 4/10 [18:46<28:09, 281.51s/it]"
          ]
        },
        {
          "name": "stdout",
          "output_type": "stream",
          "text": [
            "Epoch 4/10, Loss: 1.0355, Accuracy: 65.5583\n"
          ]
        },
        {
          "name": "stderr",
          "output_type": "stream",
          "text": [
            "\r 50%|█████     | 5/10 [23:27<23:27, 281.52s/it]"
          ]
        },
        {
          "name": "stdout",
          "output_type": "stream",
          "text": [
            "Epoch 5/10, Loss: 0.8534, Accuracy: 69.2983\n"
          ]
        },
        {
          "name": "stderr",
          "output_type": "stream",
          "text": [
            "\r 60%|██████    | 6/10 [28:08<18:45, 281.40s/it]"
          ]
        },
        {
          "name": "stdout",
          "output_type": "stream",
          "text": [
            "Epoch 6/10, Loss: 0.7264, Accuracy: 72.1250\n"
          ]
        },
        {
          "name": "stderr",
          "output_type": "stream",
          "text": [
            "\r 70%|███████   | 7/10 [32:50<14:04, 281.64s/it]"
          ]
        },
        {
          "name": "stdout",
          "output_type": "stream",
          "text": [
            "Epoch 7/10, Loss: 0.6426, Accuracy: 74.2233\n"
          ]
        },
        {
          "name": "stderr",
          "output_type": "stream",
          "text": [
            "\r 80%|████████  | 8/10 [37:32<09:23, 281.56s/it]"
          ]
        },
        {
          "name": "stdout",
          "output_type": "stream",
          "text": [
            "Epoch 8/10, Loss: 0.5902, Accuracy: 75.4100\n"
          ]
        },
        {
          "name": "stderr",
          "output_type": "stream",
          "text": [
            "\r 90%|█████████ | 9/10 [42:13<04:41, 281.47s/it]"
          ]
        },
        {
          "name": "stdout",
          "output_type": "stream",
          "text": [
            "Epoch 9/10, Loss: 0.5583, Accuracy: 76.1833\n"
          ]
        },
        {
          "name": "stderr",
          "output_type": "stream",
          "text": [
            "100%|██████████| 10/10 [46:55<00:00, 281.53s/it]"
          ]
        },
        {
          "name": "stdout",
          "output_type": "stream",
          "text": [
            "Epoch 10/10, Loss: 0.5151, Accuracy: 77.1017\n"
          ]
        },
        {
          "name": "stderr",
          "output_type": "stream",
          "text": [
            "\n"
          ]
        }
      ],
      "source": [
        "# TODO: Load pretrained ResNet-18 model\n",
        "cifar10_full_dataset = ConcatDataset([cifar10_trainset, cifar10_testset])\n",
        "cifar10_full_dataloader = torch.utils.data.DataLoader(cifar10_full_dataset, batch_size=128, shuffle=True, num_workers=2)\n",
        "\n",
        "resnet18_pretrained2 = models.resnet18(weights='IMAGENET1K_V1')\n",
        "num_ftrs = resnet18_pretrained2.fc.in_features\n",
        "resnet18_pretrained2.fc = nn.Linear(num_ftrs, 100)\n",
        "resnet18_pretrained2 = resnet18_pretrained2.to(device)\n",
        "\n",
        "# TODO: Extract the model\n",
        "n_epochs = 10\n",
        "learning_rate = 1e-3\n",
        "temperature = 10\n",
        "\n",
        "optimizer = optim.Adam(resnet18_pretrained2.parameters(), lr=learning_rate)\n",
        "knowledge_distillation(resnet34_victim, resnet18_pretrained2, cifar10_full_dataloader, optimizer, n_epochs, T=temperature)\n",
        "torch.save(resnet18_pretrained2.state_dict(), 'resnet18_pretrained_cifar10_fullset.pth')"
      ]
    },
    {
      "cell_type": "markdown",
      "metadata": {
        "id": "LhgMha03oFfW"
      },
      "source": [
        "Report the accuracy on the `CIFAR100` testset once more."
      ]
    },
    {
      "cell_type": "code",
      "execution_count": 26,
      "metadata": {
        "colab": {
          "base_uri": "https://localhost:8080/"
        },
        "id": "RmMyGh54oFfW",
        "outputId": "4ddfde7d-b327-4ef4-a993-26befea3c5da",
        "trusted": true
      },
      "outputs": [
        {
          "name": "stdout",
          "output_type": "stream",
          "text": [
            "Accuracy of the model on the test set: 58.05%\n"
          ]
        }
      ],
      "source": [
        "# TODO: Report accuracy on CIFAR100\n",
        "clean_accuracy = test_model(resnet18_pretrained2, cifar100_testloader)\n",
        "print(f'Accuracy of the model on the test set: {clean_accuracy}%')"
      ]
    },
    {
      "cell_type": "code",
      "execution_count": 27,
      "metadata": {
        "colab": {
          "base_uri": "https://localhost:8080/"
        },
        "id": "ltNB5S-z55pu",
        "outputId": "c9ab86e7-f26a-4e38-a949-aaa6e268911d"
      },
      "outputs": [
        {
          "name": "stderr",
          "output_type": "stream",
          "text": [
            "100%|██████████| 79/79 [03:53<00:00,  2.96s/it]"
          ]
        },
        {
          "name": "stdout",
          "output_type": "stream",
          "text": [
            "\n",
            "Accuracy of the model on Transfered Adversarial Examples from test set: 0.38%\n"
          ]
        },
        {
          "name": "stderr",
          "output_type": "stream",
          "text": [
            "\n"
          ]
        }
      ],
      "source": [
        "attack = PGD(resnet18_pretrained2, eps=8/255, alpha=2/255, steps=10)\n",
        "adv_acurracy = transferability_attack(resnet18_pretrained2, resnet34_victim, cifar100_testloader, attack)\n",
        "print(f'\\nAccuracy of the model on Transfered Adversarial Examples from test set: {adv_acurracy}%')"
      ]
    },
    {
      "cell_type": "markdown",
      "metadata": {
        "id": "jMqRKMj7oFfW"
      },
      "source": [
        "What are the effects of using more data?\n",
        "\n",
        "`your response:`\n",
        "##### Use of more data for extraction had huge Impact on Clean (10% difference only) Accuracy and Therefore the fidelty. It has better accuracy than the first pretrained one and as a result the adversarial examples attacks are more successful."
      ]
    },
    {
      "cell_type": "markdown",
      "metadata": {
        "id": "NBbSzH32oFfW"
      },
      "source": [
        "# CIFAR100 (10 points)"
      ]
    },
    {
      "cell_type": "markdown",
      "metadata": {
        "id": "8mYB0UF3oFfW"
      },
      "source": [
        "This time, use the training dataset from `CIFAR100` and perform knowledge distillation on a pre-trained ResNet18."
      ]
    },
    {
      "cell_type": "code",
      "execution_count": 28,
      "metadata": {
        "colab": {
          "base_uri": "https://localhost:8080/"
        },
        "execution": {
          "iopub.execute_input": "2024-12-01T18:49:38.195463Z",
          "iopub.status.busy": "2024-12-01T18:49:38.195095Z"
        },
        "id": "7jyrV4RHoFfX",
        "outputId": "b2b20273-b772-43ee-9051-d20e0c7f6073",
        "trusted": true
      },
      "outputs": [
        {
          "name": "stderr",
          "output_type": "stream",
          "text": [
            " 10%|█         | 1/10 [03:54<35:12, 234.76s/it]"
          ]
        },
        {
          "name": "stdout",
          "output_type": "stream",
          "text": [
            "Epoch 1/10, Loss: 5.8103, Accuracy: 49.0580\n"
          ]
        },
        {
          "name": "stderr",
          "output_type": "stream",
          "text": [
            "\r 20%|██        | 2/10 [07:49<31:16, 234.52s/it]"
          ]
        },
        {
          "name": "stdout",
          "output_type": "stream",
          "text": [
            "Epoch 2/10, Loss: 2.9678, Accuracy: 70.2840\n"
          ]
        },
        {
          "name": "stderr",
          "output_type": "stream",
          "text": [
            "\r 30%|███       | 3/10 [11:44<27:23, 234.73s/it]"
          ]
        },
        {
          "name": "stdout",
          "output_type": "stream",
          "text": [
            "Epoch 3/10, Loss: 2.1312, Accuracy: 78.0760\n"
          ]
        },
        {
          "name": "stderr",
          "output_type": "stream",
          "text": [
            "\r 40%|████      | 4/10 [15:38<23:28, 234.70s/it]"
          ]
        },
        {
          "name": "stdout",
          "output_type": "stream",
          "text": [
            "Epoch 4/10, Loss: 1.6248, Accuracy: 83.3200\n"
          ]
        },
        {
          "name": "stderr",
          "output_type": "stream",
          "text": [
            "\r 50%|█████     | 5/10 [19:33<19:33, 234.66s/it]"
          ]
        },
        {
          "name": "stdout",
          "output_type": "stream",
          "text": [
            "Epoch 5/10, Loss: 1.3225, Accuracy: 86.8140\n"
          ]
        },
        {
          "name": "stderr",
          "output_type": "stream",
          "text": [
            "\r 60%|██████    | 6/10 [23:28<15:38, 234.69s/it]"
          ]
        },
        {
          "name": "stdout",
          "output_type": "stream",
          "text": [
            "Epoch 6/10, Loss: 1.1368, Accuracy: 88.9080\n"
          ]
        },
        {
          "name": "stderr",
          "output_type": "stream",
          "text": [
            "\r 70%|███████   | 7/10 [27:23<11:44, 234.79s/it]"
          ]
        },
        {
          "name": "stdout",
          "output_type": "stream",
          "text": [
            "Epoch 7/10, Loss: 1.0136, Accuracy: 90.7720\n"
          ]
        },
        {
          "name": "stderr",
          "output_type": "stream",
          "text": [
            "\r 80%|████████  | 8/10 [31:17<07:49, 234.83s/it]"
          ]
        },
        {
          "name": "stdout",
          "output_type": "stream",
          "text": [
            "Epoch 8/10, Loss: 0.9479, Accuracy: 91.6140\n"
          ]
        },
        {
          "name": "stderr",
          "output_type": "stream",
          "text": [
            "\r 90%|█████████ | 9/10 [35:12<03:54, 234.74s/it]"
          ]
        },
        {
          "name": "stdout",
          "output_type": "stream",
          "text": [
            "Epoch 9/10, Loss: 0.8632, Accuracy: 92.2860\n"
          ]
        },
        {
          "name": "stderr",
          "output_type": "stream",
          "text": [
            "100%|██████████| 10/10 [39:07<00:00, 234.72s/it]"
          ]
        },
        {
          "name": "stdout",
          "output_type": "stream",
          "text": [
            "Epoch 10/10, Loss: 0.8096, Accuracy: 93.0920\n"
          ]
        },
        {
          "name": "stderr",
          "output_type": "stream",
          "text": [
            "\n"
          ]
        }
      ],
      "source": [
        "# TODO: Load pretrained ResNet-18 model\n",
        "resnet18_pretrained3 = models.resnet18(weights='IMAGENET1K_V1')\n",
        "num_ftrs = resnet18_pretrained2.fc.in_features\n",
        "resnet18_pretrained3.fc = nn.Linear(num_ftrs, 100)\n",
        "resnet18_pretrained3 = resnet18_pretrained3.to(device)\n",
        "\n",
        "# TODO: Extract the model\n",
        "n_epochs = 10\n",
        "learning_rate = 1e-3\n",
        "temperature = 10\n",
        "\n",
        "optimizer = optim.Adam(resnet18_pretrained3.parameters(), lr=learning_rate)\n",
        "knowledge_distillation(resnet34_victim, resnet18_pretrained3, cifar100_trainloader, optimizer, n_epochs, T=temperature)\n",
        "torch.save(resnet18_pretrained3.state_dict(), 'resnet18_pretrained_cifar100_trainset.pth')"
      ]
    },
    {
      "cell_type": "markdown",
      "metadata": {
        "id": "FL1GSCO4oFfX"
      },
      "source": [
        "How does the accuracy change now?"
      ]
    },
    {
      "cell_type": "code",
      "execution_count": 29,
      "metadata": {
        "colab": {
          "base_uri": "https://localhost:8080/"
        },
        "id": "A3XV4xw4oFfX",
        "outputId": "5078e317-6fd6-4957-d249-07c4cd7c12aa",
        "trusted": true
      },
      "outputs": [
        {
          "name": "stdout",
          "output_type": "stream",
          "text": [
            "Accuracy of the model on the test set: 70.54%\n"
          ]
        }
      ],
      "source": [
        "# TODO: Report accuracy on CIFAR100\n",
        "clean_accuracy = test_model(resnet18_pretrained3, cifar100_testloader)\n",
        "print(f'Accuracy of the model on the test set: {clean_accuracy}%')"
      ]
    },
    {
      "cell_type": "code",
      "execution_count": 34,
      "metadata": {
        "colab": {
          "base_uri": "https://localhost:8080/"
        },
        "id": "Gr3zc6bRDMbU",
        "outputId": "7f5a15d8-ad93-42e6-e10a-3242415b554d"
      },
      "outputs": [
        {
          "name": "stderr",
          "output_type": "stream",
          "text": [
            "100%|██████████| 79/79 [03:54<00:00,  2.96s/it]"
          ]
        },
        {
          "name": "stdout",
          "output_type": "stream",
          "text": [
            "\n",
            "Accuracy of the model on Transfered Adversarial Examples from test set: 1.46%\n"
          ]
        },
        {
          "name": "stderr",
          "output_type": "stream",
          "text": [
            "\n"
          ]
        }
      ],
      "source": [
        "attack = PGD(resnet18_pretrained3, eps=8/255, alpha=2/255, steps=10)\n",
        "adv_acurracy = transferability_attack(resnet18_pretrained3, resnet34_victim, cifar100_testloader, attack)\n",
        "print(f'\\nAccuracy of the model on Transfered Adversarial Examples from test set: {adv_acurracy}%')"
      ]
    },
    {
      "cell_type": "markdown",
      "metadata": {
        "id": "Br4XM_FAoFfX"
      },
      "source": [
        "Why do you suppose using the `CIFAR100` had the following results? Explain your observations.\n",
        "\n",
        "`your response:`\n",
        "##### What we did in this part is equal to normal Knowledge Distillation. Therefore we expected the result on clean accuracy to be the same and the attacks success rate be close to 100 which it was.\n",
        "##### The clean Accuracy of the Extracted model is higher which can be due to overfit of the victim"
      ]
    },
    {
      "cell_type": "markdown",
      "metadata": {
        "id": "qqAhQZS1BlWw"
      },
      "source": [
        "##### چندتا چیزو هم فارسی توضیح بدم:اون دقت مدلی که تو تقطیر دانش پرینت کردم مقایسه آرگمکسه مدل مهاجم و مدل قربانیه و کاری به لیبل اصلی نداشتم.\n",
        "##### روال کلی نتایج هم خیلی خوب و معنا داره مدل پری تریند اول خوب یاد میگیره و دقتش رو داده های تست 30 درصد فاصله داره و اتک هاش 68 رو میکنه 8 درصد مدل بدون پری تریند دقت عادیش خیلی بده سر همین اتک هاش خوب ترنسفر نمیشن و 68 رو می کنن 34 که عملا خیلی ضعیفه\n",
        "##### بعد که داده های ترین سیفار 100 رو استفاده میکنیم خیلی بهتر میشه سرقت و افزایش داده اثرش رو نشون میده و فاصله در دقت عادی میشه 18 درصد و اتک ها هم خیلی قوی ترنسفر میشن و 68 رو میارن زیر 1 درصد\n",
        "##### در نهایت استفاده از همون داده های اصلی آموزش قربانی برای مدل مهاجم استفاده میشه که دقت عادی رو میچسبونه به مدل قربانی و اتک هاش هم 68 رو میاره رو 1 درصد. 2 نکته وجود داره:\n",
        "##### اینکار این مرحله عملا همون تقطیر دانش عادیه چون دیتاست ها یکیه فقط لاسمون ترم دوم رو نداره.\n",
        "##### مدل مهاجم دقتش بهتره چون احتمالا بخاطر ظرفیت بیشتر مدل قربانی اورفیت بیشتر داشته."
      ]
    }
  ],
  "metadata": {
    "accelerator": "GPU",
    "colab": {
      "gpuType": "T4",
      "provenance": []
    },
    "kaggle": {
      "accelerator": "gpu",
      "dataSources": [],
      "dockerImageVersionId": 30787,
      "isGpuEnabled": true,
      "isInternetEnabled": true,
      "language": "python",
      "sourceType": "notebook"
    },
    "kernelspec": {
      "display_name": "Python 3",
      "language": "python",
      "name": "python3"
    },
    "language_info": {
      "codemirror_mode": {
        "name": "ipython",
        "version": 3
      },
      "file_extension": ".py",
      "mimetype": "text/x-python",
      "name": "python",
      "nbconvert_exporter": "python",
      "pygments_lexer": "ipython3",
      "version": "3.10.14"
    }
  },
  "nbformat": 4,
  "nbformat_minor": 0
}
